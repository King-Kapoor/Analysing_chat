{
 "cells": [
  {
   "cell_type": "code",
   "execution_count": 1,
   "metadata": {
    "id": "ZNGWRGAZuB3t"
   },
   "outputs": [],
   "source": [
    "import numpy as np\n",
    "import matplotlib.pyplot as plt\n",
    "import pandas as pd\n",
    "import datetime"
   ]
  },
  {
   "cell_type": "code",
   "execution_count": 2,
   "metadata": {
    "colab": {
     "base_uri": "https://localhost:8080/"
    },
    "id": "sLlWrVA4DM7O",
    "outputId": "3cb57c72-9e61-4536-b534-a064de3ed235"
   },
   "outputs": [
    {
     "name": "stdout",
     "output_type": "stream",
     "text": [
      "Requirement already satisfied: emoji in c:\\users\\acer\\appdata\\local\\programs\\python\\python38-32\\lib\\site-packages (1.1.0)\n"
     ]
    },
    {
     "name": "stderr",
     "output_type": "stream",
     "text": [
      "WARNING: You are using pip version 20.3.3; however, version 21.0 is available.\n",
      "You should consider upgrading via the 'c:\\users\\acer\\appdata\\local\\programs\\python\\python38-32\\python.exe -m pip install --upgrade pip' command.\n"
     ]
    }
   ],
   "source": [
    "!pip install emoji"
   ]
  },
  {
   "cell_type": "code",
   "execution_count": 3,
   "metadata": {
    "id": "NOEr4YRcDReh"
   },
   "outputs": [],
   "source": [
    "import emoji"
   ]
  },
  {
   "cell_type": "markdown",
   "metadata": {
    "id": "TBTWs1M0TbFY"
   },
   "source": [
    "## Data Preparation\n"
   ]
  },
  {
   "cell_type": "code",
   "execution_count": 4,
   "metadata": {
    "colab": {
     "base_uri": "https://localhost:8080/",
     "height": 473
    },
    "id": "xohIUJJKPp0w",
    "outputId": "497c1467-4aee-4940-d68b-6e525e07cc5b"
   },
   "outputs": [
    {
     "name": "stderr",
     "output_type": "stream",
     "text": [
      "<ipython-input-4-16356bde6379>:1: ParserWarning: Falling back to the 'python' engine because the 'c' engine does not support regex separators (separators > 1 char and different from '\\s+' are interpreted as regex); you can avoid this warning by specifying engine='python'.\n",
      "  data = pd.read_csv(\"WhatsApp Chat with Bois in da hood🌚😎.txt\", sep = '/20, ', names = ['Date', 'Message']) # error_bad_lines=False\n"
     ]
    },
    {
     "data": {
      "text/html": [
       "<div>\n",
       "<style scoped>\n",
       "    .dataframe tbody tr th:only-of-type {\n",
       "        vertical-align: middle;\n",
       "    }\n",
       "\n",
       "    .dataframe tbody tr th {\n",
       "        vertical-align: top;\n",
       "    }\n",
       "\n",
       "    .dataframe thead th {\n",
       "        text-align: right;\n",
       "    }\n",
       "</style>\n",
       "<table border=\"1\" class=\"dataframe\">\n",
       "  <thead>\n",
       "    <tr style=\"text-align: right;\">\n",
       "      <th></th>\n",
       "      <th>Date</th>\n",
       "      <th>Message</th>\n",
       "    </tr>\n",
       "  </thead>\n",
       "  <tbody>\n",
       "    <tr>\n",
       "      <th>0</th>\n",
       "      <td>5/19</td>\n",
       "      <td>1:19 PM - Messages to this group are now secur...</td>\n",
       "    </tr>\n",
       "    <tr>\n",
       "      <th>1</th>\n",
       "      <td>5/19</td>\n",
       "      <td>1:19 PM - Siddharth Chitkara created group \"Bros\"</td>\n",
       "    </tr>\n",
       "    <tr>\n",
       "      <th>2</th>\n",
       "      <td>5/19</td>\n",
       "      <td>1:19 PM - Siddharth Chitkara added you</td>\n",
       "    </tr>\n",
       "    <tr>\n",
       "      <th>3</th>\n",
       "      <td>5/19</td>\n",
       "      <td>1:19 PM - Siddharth Chitkara: whatsup bros</td>\n",
       "    </tr>\n",
       "    <tr>\n",
       "      <th>4</th>\n",
       "      <td>5/19</td>\n",
       "      <td>1:19 PM - Aniket Uca C1: Hey Bros､溟沛ｻ</td>\n",
       "    </tr>\n",
       "    <tr>\n",
       "      <th>...</th>\n",
       "      <td>...</td>\n",
       "      <td>...</td>\n",
       "    </tr>\n",
       "    <tr>\n",
       "      <th>5105</th>\n",
       "      <td>8/19</td>\n",
       "      <td>4:55 PM - Dhritanshu Aggarwal Chitkara: &lt;Media...</td>\n",
       "    </tr>\n",
       "    <tr>\n",
       "      <th>5106</th>\n",
       "      <td>8/19</td>\n",
       "      <td>4:55 PM - Dhritanshu Aggarwal Chitkara: &lt;Media...</td>\n",
       "    </tr>\n",
       "    <tr>\n",
       "      <th>5107</th>\n",
       "      <td>8/19</td>\n",
       "      <td>4:55 PM - Dhritanshu Aggarwal Chitkara: &lt;Media...</td>\n",
       "    </tr>\n",
       "    <tr>\n",
       "      <th>5108</th>\n",
       "      <td>8/19</td>\n",
       "      <td>4:58 PM - Aniket Uca C1: 櫨櫨</td>\n",
       "    </tr>\n",
       "    <tr>\n",
       "      <th>5109</th>\n",
       "      <td>8/19</td>\n",
       "      <td>6:34 PM - Devang Kapoor: �を沽を沽を沽�</td>\n",
       "    </tr>\n",
       "  </tbody>\n",
       "</table>\n",
       "<p>5110 rows × 2 columns</p>\n",
       "</div>"
      ],
      "text/plain": [
       "      Date                                            Message\n",
       "0     5/19  1:19 PM - Messages to this group are now secur...\n",
       "1     5/19  1:19 PM - Siddharth Chitkara created group \"Bros\"\n",
       "2     5/19             1:19 PM - Siddharth Chitkara added you\n",
       "3     5/19         1:19 PM - Siddharth Chitkara: whatsup bros\n",
       "4     5/19             1:19 PM - Aniket Uca C1: Hey Bros､溟沛ｻ\n",
       "...    ...                                                ...\n",
       "5105  8/19  4:55 PM - Dhritanshu Aggarwal Chitkara: <Media...\n",
       "5106  8/19  4:55 PM - Dhritanshu Aggarwal Chitkara: <Media...\n",
       "5107  8/19  4:55 PM - Dhritanshu Aggarwal Chitkara: <Media...\n",
       "5108  8/19                      4:58 PM - Aniket Uca C1: 櫨櫨\n",
       "5109  8/19                 6:34 PM - Devang Kapoor: �を沽を沽を沽�\n",
       "\n",
       "[5110 rows x 2 columns]"
      ]
     },
     "execution_count": 4,
     "metadata": {},
     "output_type": "execute_result"
    }
   ],
   "source": [
    "data = pd.read_csv(\"WhatsApp Chat with Bois in da hood🌚😎.txt\", sep = '/20, ', names = ['Date', 'Message']) # error_bad_lines=False\n",
    "data"
   ]
  },
  {
   "cell_type": "code",
   "execution_count": 5,
   "metadata": {
    "id": "ocHg_MQpK_w4"
   },
   "outputs": [],
   "source": [
    "# As we see above read_csv is not suitable for this file, therefore I am going to instead transform it into a list of strings\n",
    "def read_file(file):\n",
    "    f = open(file,'r', encoding = 'utf-8') # Read-only\n",
    "    f_str = f.read() # Convert to string\n",
    "    f_str_list = f_str.splitlines() # Converts the chunk of string into a list of strings\n",
    "    return f_str_list\n",
    "\n",
    "data = read_file('WhatsApp Chat with Bois in da hood🌚😎.txt')"
   ]
  },
  {
   "cell_type": "code",
   "execution_count": 6,
   "metadata": {
    "colab": {
     "base_uri": "https://localhost:8080/"
    },
    "id": "KTCRvru2QPC-",
    "outputId": "23b33958-c27b-44f2-9889-d6a646f2fdd0"
   },
   "outputs": [
    {
     "data": {
      "text/plain": [
       "list"
      ]
     },
     "execution_count": 6,
     "metadata": {},
     "output_type": "execute_result"
    }
   ],
   "source": [
    "type(data)"
   ]
  },
  {
   "cell_type": "code",
   "execution_count": 7,
   "metadata": {
    "colab": {
     "base_uri": "https://localhost:8080/"
    },
    "id": "R76fpHrEPGEo",
    "outputId": "3dba185f-cf82-46c7-86f6-df5a266beb54"
   },
   "outputs": [
    {
     "data": {
      "text/plain": [
       "5157"
      ]
     },
     "execution_count": 7,
     "metadata": {},
     "output_type": "execute_result"
    }
   ],
   "source": [
    "len(data)"
   ]
  },
  {
   "cell_type": "code",
   "execution_count": 8,
   "metadata": {
    "colab": {
     "base_uri": "https://localhost:8080/"
    },
    "id": "41bmXlOyMwxt",
    "outputId": "b57c6be2-4f38-44d0-d222-3abae367ce27"
   },
   "outputs": [
    {
     "data": {
      "text/plain": [
       "['5/19/20, 1:19 PM - Messages to this group are now secured with end-to-end encryption. Tap for more info.',\n",
       " '5/19/20, 1:19 PM - Siddharth Chitkara created group \"Bros\"',\n",
       " '5/19/20, 1:19 PM - Siddharth Chitkara added you',\n",
       " '5/19/20, 1:19 PM - Siddharth Chitkara: whatsup bros',\n",
       " '5/19/20, 1:19 PM - Aniket Uca C1: Hey Bros🤟🏻',\n",
       " '5/19/20, 1:19 PM - Aniket Uca C1: Aaj aag lagani hai 🔥😎',\n",
       " '5/19/20, 1:20 PM - Dhritanshu Aggarwal Chitkara: Hola',\n",
       " '5/19/20, 1:20 PM - Devang Kapoor: Yo bros!',\n",
       " '5/19/20, 1:20 PM - Siddharth Chitkara: kuch aata hoga toh lagegi aag 😂',\n",
       " \"5/19/20, 1:20 PM - Devang Kapoor: That's the spirit\"]"
      ]
     },
     "execution_count": 8,
     "metadata": {},
     "output_type": "execute_result"
    }
   ],
   "source": [
    "data[:10]"
   ]
  },
  {
   "cell_type": "code",
   "execution_count": 15,
   "metadata": {
    "colab": {
     "base_uri": "https://localhost:8080/"
    },
    "id": "flGqKwOINX07",
    "outputId": "e1071b32-17c5-4ef6-c0fc-25ad40c10277"
   },
   "outputs": [
    {
     "data": {
      "text/plain": [
       "4708"
      ]
     },
     "execution_count": 15,
     "metadata": {},
     "output_type": "execute_result"
    }
   ],
   "source": [
    "# Removing the elements that are not of date format\n",
    "def check_date(data):  \n",
    "    for i in range(len(data)):\n",
    "        try:\n",
    "            datetime.datetime.strptime(data[i].split(',')[0], '%m/%d/%y') # Converts string date into a date object\n",
    "        except ValueError: # Returns an error if the string is not a datetime object\n",
    "            data[i-1] += ' ' + data[i] # Appends the next line to the previous line\n",
    "            data[i] = \"NA\" # Replace the unwanted text element with 'NA'\n",
    "\n",
    "    #Handle more than double-line texting\n",
    "    for i in range(len(data)):\n",
    "        if data[i].split(' ')[0] == 'NA':\n",
    "            data[i] = 'NA'\n",
    "\n",
    "    while True:\n",
    "        try:\n",
    "            data.remove(\"NA\")\n",
    "        except ValueError:\n",
    "            break\n",
    "\n",
    "check_date(data)\n",
    "len(data) # 449 lines are removed"
   ]
  },
  {
   "cell_type": "markdown",
   "metadata": {
    "id": "_MPSgBSpUHVp"
   },
   "source": [
    "## Feature Extraction"
   ]
  },
  {
   "cell_type": "code",
   "execution_count": 17,
   "metadata": {
    "id": "ejFmpVXjQEIe"
   },
   "outputs": [],
   "source": [
    "# Using split() funtion extracting the features like - date, time, name and message\n",
    "\n",
    "date = [text.split(',')[0] for text in data] \n",
    "\n",
    "time = [t.split(',')[1].split('-')[0] for t in data]\n",
    "time = [t.strip(' ') for t in time] # Remove spacing\n",
    "\n",
    "name = [n.split('-')[1].split(':')[0] for n in data]\n",
    "name = [n.strip(' ') for n in name] # Remove spacing\n",
    "\n",
    "message = []\n",
    "for i in range(len(data)):\n",
    "    try:\n",
    "        message.append(data[i].split(':')[2])\n",
    "    except IndexError:\n",
    "        message.append('Missing Text') # Not missing per se, just doesn't fit the format of df I chose\n",
    "\n",
    "message = [m.lstrip(' ') for m in message] # Remove spacing\n"
   ]
  },
  {
   "cell_type": "code",
   "execution_count": 18,
   "metadata": {
    "colab": {
     "base_uri": "https://localhost:8080/",
     "height": 204
    },
    "id": "nsF5iKxkTNRS",
    "outputId": "2bd923cc-8d33-4546-c9df-9c770edb34f4"
   },
   "outputs": [
    {
     "data": {
      "text/html": [
       "<div>\n",
       "<style scoped>\n",
       "    .dataframe tbody tr th:only-of-type {\n",
       "        vertical-align: middle;\n",
       "    }\n",
       "\n",
       "    .dataframe tbody tr th {\n",
       "        vertical-align: top;\n",
       "    }\n",
       "\n",
       "    .dataframe thead th {\n",
       "        text-align: right;\n",
       "    }\n",
       "</style>\n",
       "<table border=\"1\" class=\"dataframe\">\n",
       "  <thead>\n",
       "    <tr style=\"text-align: right;\">\n",
       "      <th></th>\n",
       "      <th>Date</th>\n",
       "      <th>Time</th>\n",
       "      <th>Name</th>\n",
       "      <th>Message</th>\n",
       "    </tr>\n",
       "  </thead>\n",
       "  <tbody>\n",
       "    <tr>\n",
       "      <th>0</th>\n",
       "      <td>5/19/20</td>\n",
       "      <td>1:19 PM</td>\n",
       "      <td>Messages to this group are now secured with end</td>\n",
       "      <td>Missing Text</td>\n",
       "    </tr>\n",
       "    <tr>\n",
       "      <th>1</th>\n",
       "      <td>5/19/20</td>\n",
       "      <td>1:19 PM</td>\n",
       "      <td>Siddharth Chitkara created group \"Bros\"</td>\n",
       "      <td>Missing Text</td>\n",
       "    </tr>\n",
       "    <tr>\n",
       "      <th>2</th>\n",
       "      <td>5/19/20</td>\n",
       "      <td>1:19 PM</td>\n",
       "      <td>Siddharth Chitkara added you</td>\n",
       "      <td>Missing Text</td>\n",
       "    </tr>\n",
       "    <tr>\n",
       "      <th>3</th>\n",
       "      <td>5/19/20</td>\n",
       "      <td>1:19 PM</td>\n",
       "      <td>Siddharth Chitkara</td>\n",
       "      <td>whatsup bros</td>\n",
       "    </tr>\n",
       "    <tr>\n",
       "      <th>4</th>\n",
       "      <td>5/19/20</td>\n",
       "      <td>1:19 PM</td>\n",
       "      <td>Aniket Uca C1</td>\n",
       "      <td>Hey Bros🤟🏻</td>\n",
       "    </tr>\n",
       "  </tbody>\n",
       "</table>\n",
       "</div>"
      ],
      "text/plain": [
       "      Date     Time                                             Name  \\\n",
       "0  5/19/20  1:19 PM  Messages to this group are now secured with end   \n",
       "1  5/19/20  1:19 PM          Siddharth Chitkara created group \"Bros\"   \n",
       "2  5/19/20  1:19 PM                     Siddharth Chitkara added you   \n",
       "3  5/19/20  1:19 PM                               Siddharth Chitkara   \n",
       "4  5/19/20  1:19 PM                                    Aniket Uca C1   \n",
       "\n",
       "        Message  \n",
       "0  Missing Text  \n",
       "1  Missing Text  \n",
       "2  Missing Text  \n",
       "3  whatsup bros  \n",
       "4    Hey Bros🤟🏻  "
      ]
     },
     "execution_count": 18,
     "metadata": {},
     "output_type": "execute_result"
    }
   ],
   "source": [
    "df = pd.DataFrame(list(zip(date, time, name, message)), columns = ['Date', 'Time', 'Name', 'Message'])\n",
    "df.head()"
   ]
  },
  {
   "cell_type": "code",
   "execution_count": 19,
   "metadata": {
    "colab": {
     "base_uri": "https://localhost:8080/",
     "height": 204
    },
    "id": "v5Yn5yp0Z4fW",
    "outputId": "72bf29ae-6355-4a03-84b6-589d66ee26bf"
   },
   "outputs": [
    {
     "data": {
      "text/html": [
       "<div>\n",
       "<style scoped>\n",
       "    .dataframe tbody tr th:only-of-type {\n",
       "        vertical-align: middle;\n",
       "    }\n",
       "\n",
       "    .dataframe tbody tr th {\n",
       "        vertical-align: top;\n",
       "    }\n",
       "\n",
       "    .dataframe thead th {\n",
       "        text-align: right;\n",
       "    }\n",
       "</style>\n",
       "<table border=\"1\" class=\"dataframe\">\n",
       "  <thead>\n",
       "    <tr style=\"text-align: right;\">\n",
       "      <th></th>\n",
       "      <th>Date</th>\n",
       "      <th>Time</th>\n",
       "      <th>Name</th>\n",
       "      <th>Message</th>\n",
       "    </tr>\n",
       "  </thead>\n",
       "  <tbody>\n",
       "    <tr>\n",
       "      <th>4703</th>\n",
       "      <td>8/19/20</td>\n",
       "      <td>4:55 PM</td>\n",
       "      <td>Dhritanshu Aggarwal Chitkara</td>\n",
       "      <td>&lt;Media omitted&gt;</td>\n",
       "    </tr>\n",
       "    <tr>\n",
       "      <th>4704</th>\n",
       "      <td>8/19/20</td>\n",
       "      <td>4:55 PM</td>\n",
       "      <td>Dhritanshu Aggarwal Chitkara</td>\n",
       "      <td>&lt;Media omitted&gt;</td>\n",
       "    </tr>\n",
       "    <tr>\n",
       "      <th>4705</th>\n",
       "      <td>8/19/20</td>\n",
       "      <td>4:55 PM</td>\n",
       "      <td>Dhritanshu Aggarwal Chitkara</td>\n",
       "      <td>&lt;Media omitted&gt;</td>\n",
       "    </tr>\n",
       "    <tr>\n",
       "      <th>4706</th>\n",
       "      <td>8/19/20</td>\n",
       "      <td>4:58 PM</td>\n",
       "      <td>Aniket Uca C1</td>\n",
       "      <td>🔥🔥</td>\n",
       "    </tr>\n",
       "    <tr>\n",
       "      <th>4707</th>\n",
       "      <td>8/19/20</td>\n",
       "      <td>6:34 PM</td>\n",
       "      <td>Devang Kapoor</td>\n",
       "      <td>😂😂😂😂</td>\n",
       "    </tr>\n",
       "  </tbody>\n",
       "</table>\n",
       "</div>"
      ],
      "text/plain": [
       "         Date     Time                          Name          Message\n",
       "4703  8/19/20  4:55 PM  Dhritanshu Aggarwal Chitkara  <Media omitted>\n",
       "4704  8/19/20  4:55 PM  Dhritanshu Aggarwal Chitkara  <Media omitted>\n",
       "4705  8/19/20  4:55 PM  Dhritanshu Aggarwal Chitkara  <Media omitted>\n",
       "4706  8/19/20  4:58 PM                 Aniket Uca C1               🔥🔥\n",
       "4707  8/19/20  6:34 PM                 Devang Kapoor             😂😂😂😂"
      ]
     },
     "execution_count": 19,
     "metadata": {},
     "output_type": "execute_result"
    }
   ],
   "source": [
    "df.tail()"
   ]
  },
  {
   "cell_type": "markdown",
   "metadata": {
    "id": "CRWH3Smho6WZ"
   },
   "source": [
    "## Data Analysis"
   ]
  },
  {
   "cell_type": "code",
   "execution_count": 20,
   "metadata": {
    "colab": {
     "base_uri": "https://localhost:8080/",
     "height": 235
    },
    "id": "Tnm6teOBU6iU",
    "outputId": "3589707a-8a4f-4f5e-8922-d66eecacb885"
   },
   "outputs": [
    {
     "data": {
      "text/html": [
       "<div>\n",
       "<style scoped>\n",
       "    .dataframe tbody tr th:only-of-type {\n",
       "        vertical-align: middle;\n",
       "    }\n",
       "\n",
       "    .dataframe tbody tr th {\n",
       "        vertical-align: top;\n",
       "    }\n",
       "\n",
       "    .dataframe thead th {\n",
       "        text-align: right;\n",
       "    }\n",
       "</style>\n",
       "<table border=\"1\" class=\"dataframe\">\n",
       "  <thead>\n",
       "    <tr style=\"text-align: right;\">\n",
       "      <th></th>\n",
       "      <th>Date</th>\n",
       "      <th>Time</th>\n",
       "      <th>Name</th>\n",
       "      <th>Message</th>\n",
       "    </tr>\n",
       "  </thead>\n",
       "  <tbody>\n",
       "    <tr>\n",
       "      <th>0</th>\n",
       "      <td>5/19/20</td>\n",
       "      <td>1:19 PM</td>\n",
       "      <td>Messages to this group are now secured with end</td>\n",
       "      <td>Missing Text</td>\n",
       "    </tr>\n",
       "    <tr>\n",
       "      <th>1</th>\n",
       "      <td>5/19/20</td>\n",
       "      <td>1:19 PM</td>\n",
       "      <td>Siddharth Chitkara created group \"Bros\"</td>\n",
       "      <td>Missing Text</td>\n",
       "    </tr>\n",
       "    <tr>\n",
       "      <th>2</th>\n",
       "      <td>5/19/20</td>\n",
       "      <td>1:19 PM</td>\n",
       "      <td>Siddharth Chitkara added you</td>\n",
       "      <td>Missing Text</td>\n",
       "    </tr>\n",
       "    <tr>\n",
       "      <th>55</th>\n",
       "      <td>5/19/20</td>\n",
       "      <td>1:26 PM</td>\n",
       "      <td>Dhritanshu Aggarwal Chitkara changed the subje...</td>\n",
       "      <td>Missing Text</td>\n",
       "    </tr>\n",
       "    <tr>\n",
       "      <th>100</th>\n",
       "      <td>5/19/20</td>\n",
       "      <td>4:18 PM</td>\n",
       "      <td>Aniket Uca C1 changed this group's icon</td>\n",
       "      <td>Missing Text</td>\n",
       "    </tr>\n",
       "    <tr>\n",
       "      <th>102</th>\n",
       "      <td>5/19/20</td>\n",
       "      <td>4:32 PM</td>\n",
       "      <td>You're now an admin</td>\n",
       "      <td>Missing Text</td>\n",
       "    </tr>\n",
       "  </tbody>\n",
       "</table>\n",
       "</div>"
      ],
      "text/plain": [
       "        Date     Time                                               Name  \\\n",
       "0    5/19/20  1:19 PM    Messages to this group are now secured with end   \n",
       "1    5/19/20  1:19 PM            Siddharth Chitkara created group \"Bros\"   \n",
       "2    5/19/20  1:19 PM                       Siddharth Chitkara added you   \n",
       "55   5/19/20  1:26 PM  Dhritanshu Aggarwal Chitkara changed the subje...   \n",
       "100  5/19/20  4:18 PM            Aniket Uca C1 changed this group's icon   \n",
       "102  5/19/20  4:32 PM                                You're now an admin   \n",
       "\n",
       "          Message  \n",
       "0    Missing Text  \n",
       "1    Missing Text  \n",
       "2    Missing Text  \n",
       "55   Missing Text  \n",
       "100  Missing Text  \n",
       "102  Missing Text  "
      ]
     },
     "execution_count": 20,
     "metadata": {},
     "output_type": "execute_result"
    }
   ],
   "source": [
    "df[df['Message'] == 'Missing Text'] # There are 6 of such statements and they provide very less value in analyzing and exploring the data"
   ]
  },
  {
   "cell_type": "code",
   "execution_count": 21,
   "metadata": {
    "colab": {
     "base_uri": "https://localhost:8080/",
     "height": 49
    },
    "id": "IBdNcp2cVIz1",
    "outputId": "da7760b1-41ab-49ee-c482-c31a0ea1f925"
   },
   "outputs": [
    {
     "data": {
      "text/html": [
       "<div>\n",
       "<style scoped>\n",
       "    .dataframe tbody tr th:only-of-type {\n",
       "        vertical-align: middle;\n",
       "    }\n",
       "\n",
       "    .dataframe tbody tr th {\n",
       "        vertical-align: top;\n",
       "    }\n",
       "\n",
       "    .dataframe thead th {\n",
       "        text-align: right;\n",
       "    }\n",
       "</style>\n",
       "<table border=\"1\" class=\"dataframe\">\n",
       "  <thead>\n",
       "    <tr style=\"text-align: right;\">\n",
       "      <th></th>\n",
       "      <th>Date</th>\n",
       "      <th>Time</th>\n",
       "      <th>Name</th>\n",
       "      <th>Message</th>\n",
       "    </tr>\n",
       "  </thead>\n",
       "  <tbody>\n",
       "  </tbody>\n",
       "</table>\n",
       "</div>"
      ],
      "text/plain": [
       "Empty DataFrame\n",
       "Columns: [Date, Time, Name, Message]\n",
       "Index: []"
      ]
     },
     "execution_count": 21,
     "metadata": {},
     "output_type": "execute_result"
    }
   ],
   "source": [
    "df = df.drop([0, 1, 2, 55, 100, 102]) # Therefore they are being dropped\n",
    "df[df['Message'] == 'Missing Text']"
   ]
  },
  {
   "cell_type": "code",
   "execution_count": 22,
   "metadata": {
    "colab": {
     "base_uri": "https://localhost:8080/"
    },
    "id": "XA5OcB5iovDp",
    "outputId": "d7c8e5d3-4c24-473d-cb86-cc1d66994972"
   },
   "outputs": [
    {
     "name": "stdout",
     "output_type": "stream",
     "text": [
      "<class 'pandas.core.frame.DataFrame'>\n",
      "Int64Index: 4702 entries, 3 to 4707\n",
      "Data columns (total 4 columns):\n",
      " #   Column   Non-Null Count  Dtype \n",
      "---  ------   --------------  ----- \n",
      " 0   Date     4702 non-null   object\n",
      " 1   Time     4702 non-null   object\n",
      " 2   Name     4702 non-null   object\n",
      " 3   Message  4702 non-null   object\n",
      "dtypes: object(4)\n",
      "memory usage: 110.2+ KB\n"
     ]
    }
   ],
   "source": [
    "df.info()"
   ]
  },
  {
   "cell_type": "code",
   "execution_count": 23,
   "metadata": {
    "colab": {
     "base_uri": "https://localhost:8080/",
     "height": 173
    },
    "id": "o_3YHWSiZJ_j",
    "outputId": "ca754ab1-a1fb-4c81-987d-1d66e0ff7d2e"
   },
   "outputs": [
    {
     "data": {
      "text/html": [
       "<div>\n",
       "<style scoped>\n",
       "    .dataframe tbody tr th:only-of-type {\n",
       "        vertical-align: middle;\n",
       "    }\n",
       "\n",
       "    .dataframe tbody tr th {\n",
       "        vertical-align: top;\n",
       "    }\n",
       "\n",
       "    .dataframe thead th {\n",
       "        text-align: right;\n",
       "    }\n",
       "</style>\n",
       "<table border=\"1\" class=\"dataframe\">\n",
       "  <thead>\n",
       "    <tr style=\"text-align: right;\">\n",
       "      <th></th>\n",
       "      <th>Date</th>\n",
       "      <th>Time</th>\n",
       "      <th>Name</th>\n",
       "      <th>Message</th>\n",
       "    </tr>\n",
       "  </thead>\n",
       "  <tbody>\n",
       "    <tr>\n",
       "      <th>count</th>\n",
       "      <td>4702</td>\n",
       "      <td>4702</td>\n",
       "      <td>4702</td>\n",
       "      <td>4702</td>\n",
       "    </tr>\n",
       "    <tr>\n",
       "      <th>unique</th>\n",
       "      <td>92</td>\n",
       "      <td>936</td>\n",
       "      <td>5</td>\n",
       "      <td>2822</td>\n",
       "    </tr>\n",
       "    <tr>\n",
       "      <th>top</th>\n",
       "      <td>5/23/20</td>\n",
       "      <td>10:49 AM</td>\n",
       "      <td>Vidhuyn UCA C1</td>\n",
       "      <td>&lt;Media omitted&gt;</td>\n",
       "    </tr>\n",
       "    <tr>\n",
       "      <th>freq</th>\n",
       "      <td>239</td>\n",
       "      <td>26</td>\n",
       "      <td>2026</td>\n",
       "      <td>878</td>\n",
       "    </tr>\n",
       "  </tbody>\n",
       "</table>\n",
       "</div>"
      ],
      "text/plain": [
       "           Date      Time            Name          Message\n",
       "count      4702      4702            4702             4702\n",
       "unique       92       936               5             2822\n",
       "top     5/23/20  10:49 AM  Vidhuyn UCA C1  <Media omitted>\n",
       "freq        239        26            2026              878"
      ]
     },
     "execution_count": 23,
     "metadata": {},
     "output_type": "execute_result"
    }
   ],
   "source": [
    "df.describe()"
   ]
  },
  {
   "cell_type": "markdown",
   "metadata": {
    "id": "7_mUuSEEkg7X"
   },
   "source": [
    "This seems accurate. The chat consists of the content between 19th May to 19th August amassing upto 92 days.\n",
    "\n",
    "According to this Vidhyun sends a lot of messages and most of it is media. Let's verify that."
   ]
  },
  {
   "cell_type": "code",
   "execution_count": 24,
   "metadata": {
    "colab": {
     "base_uri": "https://localhost:8080/",
     "height": 235
    },
    "id": "FSn9S4EZv1fX",
    "outputId": "a5165e6e-9139-4597-a1df-1368ace3d61e"
   },
   "outputs": [
    {
     "data": {
      "text/html": [
       "<div>\n",
       "<style scoped>\n",
       "    .dataframe tbody tr th:only-of-type {\n",
       "        vertical-align: middle;\n",
       "    }\n",
       "\n",
       "    .dataframe tbody tr th {\n",
       "        vertical-align: top;\n",
       "    }\n",
       "\n",
       "    .dataframe thead th {\n",
       "        text-align: right;\n",
       "    }\n",
       "</style>\n",
       "<table border=\"1\" class=\"dataframe\">\n",
       "  <thead>\n",
       "    <tr style=\"text-align: right;\">\n",
       "      <th></th>\n",
       "      <th>Message</th>\n",
       "    </tr>\n",
       "    <tr>\n",
       "      <th>Name</th>\n",
       "      <th></th>\n",
       "    </tr>\n",
       "  </thead>\n",
       "  <tbody>\n",
       "    <tr>\n",
       "      <th>Aniket Uca C1</th>\n",
       "      <td>986</td>\n",
       "    </tr>\n",
       "    <tr>\n",
       "      <th>Devang Kapoor</th>\n",
       "      <td>132</td>\n",
       "    </tr>\n",
       "    <tr>\n",
       "      <th>Dhritanshu Aggarwal Chitkara</th>\n",
       "      <td>1155</td>\n",
       "    </tr>\n",
       "    <tr>\n",
       "      <th>Siddharth Chitkara</th>\n",
       "      <td>403</td>\n",
       "    </tr>\n",
       "    <tr>\n",
       "      <th>Vidhuyn UCA C1</th>\n",
       "      <td>2026</td>\n",
       "    </tr>\n",
       "  </tbody>\n",
       "</table>\n",
       "</div>"
      ],
      "text/plain": [
       "                              Message\n",
       "Name                                 \n",
       "Aniket Uca C1                     986\n",
       "Devang Kapoor                     132\n",
       "Dhritanshu Aggarwal Chitkara     1155\n",
       "Siddharth Chitkara                403\n",
       "Vidhuyn UCA C1                   2026"
      ]
     },
     "execution_count": 24,
     "metadata": {},
     "output_type": "execute_result"
    }
   ],
   "source": [
    "df.groupby('Name')[['Message']].aggregate('count')"
   ]
  },
  {
   "cell_type": "code",
   "execution_count": 25,
   "metadata": {
    "colab": {
     "base_uri": "https://localhost:8080/",
     "height": 265
    },
    "id": "f_pnlgm2lqOg",
    "outputId": "74d47c61-163b-434a-ca3a-7807f353c0ad"
   },
   "outputs": [
    {
     "data": {
      "image/png": "[encoded data removed]",
      "text/plain": [
       "<Figure size 432x288 with 1 Axes>"
      ]
     },
     "metadata": {
      "needs_background": "light"
     },
     "output_type": "display_data"
    }
   ],
   "source": [
    "messages_per_person = df['Name'].value_counts() # Number of messages per person\n",
    "top_10 = messages_per_person.head(10) # Number of messages per person for the top 10 most active people\n",
    "top_10.plot.barh(); # Plot a bar chart using pandas built-in plotting apis"
   ]
  },
  {
   "cell_type": "code",
   "execution_count": 26,
   "metadata": {
    "colab": {
     "base_uri": "https://localhost:8080/",
     "height": 419
    },
    "id": "szIV7sgeqEDb",
    "outputId": "5a536428-79b3-4d0f-d81e-8381e6041643"
   },
   "outputs": [
    {
     "data": {
      "text/html": [
       "<div>\n",
       "<style scoped>\n",
       "    .dataframe tbody tr th:only-of-type {\n",
       "        vertical-align: middle;\n",
       "    }\n",
       "\n",
       "    .dataframe tbody tr th {\n",
       "        vertical-align: top;\n",
       "    }\n",
       "\n",
       "    .dataframe thead th {\n",
       "        text-align: right;\n",
       "    }\n",
       "</style>\n",
       "<table border=\"1\" class=\"dataframe\">\n",
       "  <thead>\n",
       "    <tr style=\"text-align: right;\">\n",
       "      <th></th>\n",
       "      <th>Date</th>\n",
       "      <th>Time</th>\n",
       "      <th>Name</th>\n",
       "      <th>Message</th>\n",
       "    </tr>\n",
       "  </thead>\n",
       "  <tbody>\n",
       "    <tr>\n",
       "      <th>7</th>\n",
       "      <td>5/19/20</td>\n",
       "      <td>1:20 PM</td>\n",
       "      <td>Devang Kapoor</td>\n",
       "      <td>Yo bros!</td>\n",
       "    </tr>\n",
       "    <tr>\n",
       "      <th>9</th>\n",
       "      <td>5/19/20</td>\n",
       "      <td>1:20 PM</td>\n",
       "      <td>Devang Kapoor</td>\n",
       "      <td>That's the spirit</td>\n",
       "    </tr>\n",
       "    <tr>\n",
       "      <th>32</th>\n",
       "      <td>5/19/20</td>\n",
       "      <td>1:23 PM</td>\n",
       "      <td>Devang Kapoor</td>\n",
       "      <td>Lekin cheating mein sabh se aage vo</td>\n",
       "    </tr>\n",
       "    <tr>\n",
       "      <th>40</th>\n",
       "      <td>5/19/20</td>\n",
       "      <td>1:23 PM</td>\n",
       "      <td>Devang Kapoor</td>\n",
       "      <td>Areh sujeet ko bhi daalo. Vo bhi jugadu banda ...</td>\n",
       "    </tr>\n",
       "    <tr>\n",
       "      <th>44</th>\n",
       "      <td>5/19/20</td>\n",
       "      <td>1:24 PM</td>\n",
       "      <td>Devang Kapoor</td>\n",
       "      <td>Soch samjhkar daal lo</td>\n",
       "    </tr>\n",
       "    <tr>\n",
       "      <th>...</th>\n",
       "      <td>...</td>\n",
       "      <td>...</td>\n",
       "      <td>...</td>\n",
       "      <td>...</td>\n",
       "    </tr>\n",
       "    <tr>\n",
       "      <th>4631</th>\n",
       "      <td>8/15/20</td>\n",
       "      <td>9:03 PM</td>\n",
       "      <td>Devang Kapoor</td>\n",
       "      <td>Damn bro, thought this was a joke at first  Bu...</td>\n",
       "    </tr>\n",
       "    <tr>\n",
       "      <th>4634</th>\n",
       "      <td>8/15/20</td>\n",
       "      <td>9:04 PM</td>\n",
       "      <td>Devang Kapoor</td>\n",
       "      <td>😂😂😂</td>\n",
       "    </tr>\n",
       "    <tr>\n",
       "      <th>4635</th>\n",
       "      <td>8/15/20</td>\n",
       "      <td>9:04 PM</td>\n",
       "      <td>Devang Kapoor</td>\n",
       "      <td>Yeah</td>\n",
       "    </tr>\n",
       "    <tr>\n",
       "      <th>4636</th>\n",
       "      <td>8/15/20</td>\n",
       "      <td>9:04 PM</td>\n",
       "      <td>Devang Kapoor</td>\n",
       "      <td>Hope it's great</td>\n",
       "    </tr>\n",
       "    <tr>\n",
       "      <th>4707</th>\n",
       "      <td>8/19/20</td>\n",
       "      <td>6:34 PM</td>\n",
       "      <td>Devang Kapoor</td>\n",
       "      <td>😂😂😂😂</td>\n",
       "    </tr>\n",
       "  </tbody>\n",
       "</table>\n",
       "<p>132 rows × 4 columns</p>\n",
       "</div>"
      ],
      "text/plain": [
       "         Date     Time           Name  \\\n",
       "7     5/19/20  1:20 PM  Devang Kapoor   \n",
       "9     5/19/20  1:20 PM  Devang Kapoor   \n",
       "32    5/19/20  1:23 PM  Devang Kapoor   \n",
       "40    5/19/20  1:23 PM  Devang Kapoor   \n",
       "44    5/19/20  1:24 PM  Devang Kapoor   \n",
       "...       ...      ...            ...   \n",
       "4631  8/15/20  9:03 PM  Devang Kapoor   \n",
       "4634  8/15/20  9:04 PM  Devang Kapoor   \n",
       "4635  8/15/20  9:04 PM  Devang Kapoor   \n",
       "4636  8/15/20  9:04 PM  Devang Kapoor   \n",
       "4707  8/19/20  6:34 PM  Devang Kapoor   \n",
       "\n",
       "                                                Message  \n",
       "7                                              Yo bros!  \n",
       "9                                     That's the spirit  \n",
       "32                  Lekin cheating mein sabh se aage vo  \n",
       "40    Areh sujeet ko bhi daalo. Vo bhi jugadu banda ...  \n",
       "44                                Soch samjhkar daal lo  \n",
       "...                                                 ...  \n",
       "4631  Damn bro, thought this was a joke at first  Bu...  \n",
       "4634                                                😂😂😂  \n",
       "4635                                               Yeah  \n",
       "4636                                    Hope it's great  \n",
       "4707                                               😂😂😂😂  \n",
       "\n",
       "[132 rows x 4 columns]"
      ]
     },
     "execution_count": 26,
     "metadata": {},
     "output_type": "execute_result"
    }
   ],
   "source": [
    "df[df.Name.values == 'Devang Kapoor']"
   ]
  },
  {
   "cell_type": "code",
   "execution_count": 27,
   "metadata": {
    "colab": {
     "base_uri": "https://localhost:8080/",
     "height": 419
    },
    "id": "ztPjc_Hlu7qT",
    "outputId": "39d2dbaf-02ae-4ea9-ec8b-e0a106ab0d4c"
   },
   "outputs": [
    {
     "data": {
      "text/html": [
       "<div>\n",
       "<style scoped>\n",
       "    .dataframe tbody tr th:only-of-type {\n",
       "        vertical-align: middle;\n",
       "    }\n",
       "\n",
       "    .dataframe tbody tr th {\n",
       "        vertical-align: top;\n",
       "    }\n",
       "\n",
       "    .dataframe thead th {\n",
       "        text-align: right;\n",
       "    }\n",
       "</style>\n",
       "<table border=\"1\" class=\"dataframe\">\n",
       "  <thead>\n",
       "    <tr style=\"text-align: right;\">\n",
       "      <th></th>\n",
       "      <th>Date</th>\n",
       "      <th>Time</th>\n",
       "      <th>Name</th>\n",
       "      <th>Message</th>\n",
       "    </tr>\n",
       "  </thead>\n",
       "  <tbody>\n",
       "    <tr>\n",
       "      <th>10</th>\n",
       "      <td>5/19/20</td>\n",
       "      <td>1:20 PM</td>\n",
       "      <td>Dhritanshu Aggarwal Chitkara</td>\n",
       "      <td>&lt;Media omitted&gt;</td>\n",
       "    </tr>\n",
       "    <tr>\n",
       "      <th>115</th>\n",
       "      <td>5/20/20</td>\n",
       "      <td>3:56 PM</td>\n",
       "      <td>Vidhuyn UCA C1</td>\n",
       "      <td>&lt;Media omitted&gt;</td>\n",
       "    </tr>\n",
       "    <tr>\n",
       "      <th>189</th>\n",
       "      <td>5/20/20</td>\n",
       "      <td>6:38 PM</td>\n",
       "      <td>Vidhuyn UCA C1</td>\n",
       "      <td>&lt;Media omitted&gt;</td>\n",
       "    </tr>\n",
       "    <tr>\n",
       "      <th>201</th>\n",
       "      <td>5/20/20</td>\n",
       "      <td>8:15 PM</td>\n",
       "      <td>Vidhuyn UCA C1</td>\n",
       "      <td>&lt;Media omitted&gt;</td>\n",
       "    </tr>\n",
       "    <tr>\n",
       "      <th>226</th>\n",
       "      <td>5/21/20</td>\n",
       "      <td>3:40 PM</td>\n",
       "      <td>Vidhuyn UCA C1</td>\n",
       "      <td>&lt;Media omitted&gt;</td>\n",
       "    </tr>\n",
       "    <tr>\n",
       "      <th>...</th>\n",
       "      <td>...</td>\n",
       "      <td>...</td>\n",
       "      <td>...</td>\n",
       "      <td>...</td>\n",
       "    </tr>\n",
       "    <tr>\n",
       "      <th>4699</th>\n",
       "      <td>8/19/20</td>\n",
       "      <td>11:54 AM</td>\n",
       "      <td>Vidhuyn UCA C1</td>\n",
       "      <td>&lt;Media omitted&gt;</td>\n",
       "    </tr>\n",
       "    <tr>\n",
       "      <th>4702</th>\n",
       "      <td>8/19/20</td>\n",
       "      <td>4:55 PM</td>\n",
       "      <td>Dhritanshu Aggarwal Chitkara</td>\n",
       "      <td>&lt;Media omitted&gt;</td>\n",
       "    </tr>\n",
       "    <tr>\n",
       "      <th>4703</th>\n",
       "      <td>8/19/20</td>\n",
       "      <td>4:55 PM</td>\n",
       "      <td>Dhritanshu Aggarwal Chitkara</td>\n",
       "      <td>&lt;Media omitted&gt;</td>\n",
       "    </tr>\n",
       "    <tr>\n",
       "      <th>4704</th>\n",
       "      <td>8/19/20</td>\n",
       "      <td>4:55 PM</td>\n",
       "      <td>Dhritanshu Aggarwal Chitkara</td>\n",
       "      <td>&lt;Media omitted&gt;</td>\n",
       "    </tr>\n",
       "    <tr>\n",
       "      <th>4705</th>\n",
       "      <td>8/19/20</td>\n",
       "      <td>4:55 PM</td>\n",
       "      <td>Dhritanshu Aggarwal Chitkara</td>\n",
       "      <td>&lt;Media omitted&gt;</td>\n",
       "    </tr>\n",
       "  </tbody>\n",
       "</table>\n",
       "<p>878 rows × 4 columns</p>\n",
       "</div>"
      ],
      "text/plain": [
       "         Date      Time                          Name          Message\n",
       "10    5/19/20   1:20 PM  Dhritanshu Aggarwal Chitkara  <Media omitted>\n",
       "115   5/20/20   3:56 PM                Vidhuyn UCA C1  <Media omitted>\n",
       "189   5/20/20   6:38 PM                Vidhuyn UCA C1  <Media omitted>\n",
       "201   5/20/20   8:15 PM                Vidhuyn UCA C1  <Media omitted>\n",
       "226   5/21/20   3:40 PM                Vidhuyn UCA C1  <Media omitted>\n",
       "...       ...       ...                           ...              ...\n",
       "4699  8/19/20  11:54 AM                Vidhuyn UCA C1  <Media omitted>\n",
       "4702  8/19/20   4:55 PM  Dhritanshu Aggarwal Chitkara  <Media omitted>\n",
       "4703  8/19/20   4:55 PM  Dhritanshu Aggarwal Chitkara  <Media omitted>\n",
       "4704  8/19/20   4:55 PM  Dhritanshu Aggarwal Chitkara  <Media omitted>\n",
       "4705  8/19/20   4:55 PM  Dhritanshu Aggarwal Chitkara  <Media omitted>\n",
       "\n",
       "[878 rows x 4 columns]"
      ]
     },
     "execution_count": 27,
     "metadata": {},
     "output_type": "execute_result"
    }
   ],
   "source": [
    "df_media = df[df.Message.values == '<Media omitted>']\n",
    "df_media"
   ]
  },
  {
   "cell_type": "code",
   "execution_count": 29,
   "metadata": {
    "colab": {
     "base_uri": "https://localhost:8080/",
     "height": 235
    },
    "id": "N8AN_Hlk1Jvi",
    "outputId": "b0b32b54-d195-479f-d464-119a1372db2a"
   },
   "outputs": [
    {
     "data": {
      "text/html": [
       "<div>\n",
       "<style scoped>\n",
       "    .dataframe tbody tr th:only-of-type {\n",
       "        vertical-align: middle;\n",
       "    }\n",
       "\n",
       "    .dataframe tbody tr th {\n",
       "        vertical-align: top;\n",
       "    }\n",
       "\n",
       "    .dataframe thead th {\n",
       "        text-align: right;\n",
       "    }\n",
       "</style>\n",
       "<table border=\"1\" class=\"dataframe\">\n",
       "  <thead>\n",
       "    <tr style=\"text-align: right;\">\n",
       "      <th></th>\n",
       "      <th>Message</th>\n",
       "    </tr>\n",
       "    <tr>\n",
       "      <th>Name</th>\n",
       "      <th></th>\n",
       "    </tr>\n",
       "  </thead>\n",
       "  <tbody>\n",
       "    <tr>\n",
       "      <th>Aniket Uca C1</th>\n",
       "      <td>66</td>\n",
       "    </tr>\n",
       "    <tr>\n",
       "      <th>Devang Kapoor</th>\n",
       "      <td>9</td>\n",
       "    </tr>\n",
       "    <tr>\n",
       "      <th>Dhritanshu Aggarwal Chitkara</th>\n",
       "      <td>262</td>\n",
       "    </tr>\n",
       "    <tr>\n",
       "      <th>Siddharth Chitkara</th>\n",
       "      <td>1</td>\n",
       "    </tr>\n",
       "    <tr>\n",
       "      <th>Vidhuyn UCA C1</th>\n",
       "      <td>540</td>\n",
       "    </tr>\n",
       "  </tbody>\n",
       "</table>\n",
       "</div>"
      ],
      "text/plain": [
       "                              Message\n",
       "Name                                 \n",
       "Aniket Uca C1                      66\n",
       "Devang Kapoor                       9\n",
       "Dhritanshu Aggarwal Chitkara      262\n",
       "Siddharth Chitkara                  1\n",
       "Vidhuyn UCA C1                    540"
      ]
     },
     "execution_count": 29,
     "metadata": {},
     "output_type": "execute_result"
    }
   ],
   "source": [
    "# Number of media messages per person\n",
    "df_media = df_media.groupby('Name')[['Message']].aggregate('count')\n",
    "df_media"
   ]
  },
  {
   "cell_type": "code",
   "execution_count": 30,
   "metadata": {
    "colab": {
     "base_uri": "https://localhost:8080/",
     "height": 265
    },
    "id": "kanNtkQ0pSU8",
    "outputId": "ae6b87d6-2190-4609-8a75-8464d7c6660f"
   },
   "outputs": [
    {
     "data": {
      "image/png": "[encoded data removed]",
      "text/plain": [
       "<Figure size 432x288 with 1 Axes>"
      ]
     },
     "metadata": {
      "needs_background": "light"
     },
     "output_type": "display_data"
    }
   ],
   "source": [
    "# Plotting the result\n",
    "df_media.plot.barh();"
   ]
  },
  {
   "cell_type": "code",
   "execution_count": 31,
   "metadata": {
    "colab": {
     "base_uri": "https://localhost:8080/",
     "height": 204
    },
    "id": "oiIoetWE18kz",
    "outputId": "ab4f2a4c-16cc-4760-876c-ae5300a1a6a9"
   },
   "outputs": [
    {
     "data": {
      "text/html": [
       "<div>\n",
       "<style scoped>\n",
       "    .dataframe tbody tr th:only-of-type {\n",
       "        vertical-align: middle;\n",
       "    }\n",
       "\n",
       "    .dataframe tbody tr th {\n",
       "        vertical-align: top;\n",
       "    }\n",
       "\n",
       "    .dataframe thead th {\n",
       "        text-align: right;\n",
       "    }\n",
       "</style>\n",
       "<table border=\"1\" class=\"dataframe\">\n",
       "  <thead>\n",
       "    <tr style=\"text-align: right;\">\n",
       "      <th></th>\n",
       "      <th>Date</th>\n",
       "      <th>Time</th>\n",
       "      <th>Name</th>\n",
       "      <th>Message</th>\n",
       "    </tr>\n",
       "  </thead>\n",
       "  <tbody>\n",
       "    <tr>\n",
       "      <th>3</th>\n",
       "      <td>5/19/20</td>\n",
       "      <td>1:19 PM</td>\n",
       "      <td>Siddharth Chitkara</td>\n",
       "      <td>whatsup bros</td>\n",
       "    </tr>\n",
       "    <tr>\n",
       "      <th>4</th>\n",
       "      <td>5/19/20</td>\n",
       "      <td>1:19 PM</td>\n",
       "      <td>Aniket Uca C1</td>\n",
       "      <td>Hey Bros🤟🏻</td>\n",
       "    </tr>\n",
       "    <tr>\n",
       "      <th>5</th>\n",
       "      <td>5/19/20</td>\n",
       "      <td>1:19 PM</td>\n",
       "      <td>Aniket Uca C1</td>\n",
       "      <td>Aaj aag lagani hai 🔥😎</td>\n",
       "    </tr>\n",
       "    <tr>\n",
       "      <th>6</th>\n",
       "      <td>5/19/20</td>\n",
       "      <td>1:20 PM</td>\n",
       "      <td>Dhritanshu Aggarwal Chitkara</td>\n",
       "      <td>Hola</td>\n",
       "    </tr>\n",
       "    <tr>\n",
       "      <th>7</th>\n",
       "      <td>5/19/20</td>\n",
       "      <td>1:20 PM</td>\n",
       "      <td>Devang Kapoor</td>\n",
       "      <td>Yo bros!</td>\n",
       "    </tr>\n",
       "  </tbody>\n",
       "</table>\n",
       "</div>"
      ],
      "text/plain": [
       "      Date     Time                          Name                Message\n",
       "3  5/19/20  1:19 PM            Siddharth Chitkara           whatsup bros\n",
       "4  5/19/20  1:19 PM                 Aniket Uca C1             Hey Bros🤟🏻\n",
       "5  5/19/20  1:19 PM                 Aniket Uca C1  Aaj aag lagani hai 🔥😎\n",
       "6  5/19/20  1:20 PM  Dhritanshu Aggarwal Chitkara                   Hola\n",
       "7  5/19/20  1:20 PM                 Devang Kapoor               Yo bros!"
      ]
     },
     "execution_count": 31,
     "metadata": {},
     "output_type": "execute_result"
    }
   ],
   "source": [
    "# Now dropping the media messages as they provide nothing now\n",
    "df_messages = df.drop(df[df.Message.values == '<Media omitted>'].index)\n",
    "df_messages.head()"
   ]
  },
  {
   "cell_type": "code",
   "execution_count": 32,
   "metadata": {
    "colab": {
     "base_uri": "https://localhost:8080/",
     "height": 35
    },
    "id": "5n5No92Y_RfY",
    "outputId": "94c64809-814f-469a-8dae-d620b32b0a3c"
   },
   "outputs": [
    {
     "data": {
      "text/plain": [
       "':fire:'"
      ]
     },
     "execution_count": 32,
     "metadata": {},
     "output_type": "execute_result"
    }
   ],
   "source": [
    "emoji.demojize(\"🔥\")"
   ]
  },
  {
   "cell_type": "code",
   "execution_count": 33,
   "metadata": {
    "colab": {
     "base_uri": "https://localhost:8080/",
     "height": 35
    },
    "id": "oSVl5NUuHVIl",
    "outputId": "ae12d2af-e2d5-4175-fdac-a878b2fb9683"
   },
   "outputs": [
    {
     "data": {
      "text/plain": [
       "'Aaj aag lagani hai :fire::smiling_face_with_sunglasses:'"
      ]
     },
     "execution_count": 33,
     "metadata": {},
     "output_type": "execute_result"
    }
   ],
   "source": [
    "emoji.demojize(\"Aaj aag lagani hai 🔥😎\")"
   ]
  },
  {
   "cell_type": "code",
   "execution_count": 34,
   "metadata": {
    "colab": {
     "base_uri": "https://localhost:8080/",
     "height": 35
    },
    "id": "6V4-9-HiYWHf",
    "outputId": "64bc32d7-51e9-4029-827a-bf5732ce6b1d"
   },
   "outputs": [
    {
     "data": {
      "text/plain": [
       "'whatsup bros kuch aata hoga toh lagegi aag 😂 ye bt'"
      ]
     },
     "execution_count": 34,
     "metadata": {},
     "output_type": "execute_result"
    }
   ],
   "source": [
    "s2 = '' # Combining all the messages into a string\n",
    "for n in df_messages.Name.unique():\n",
    "  s1 = df_messages.Message[df_messages.Name == n]\n",
    "  s2 += (' ').join(s1.values)\n",
    "\n",
    "s2[:50]  "
   ]
  },
  {
   "cell_type": "code",
   "execution_count": 35,
   "metadata": {
    "colab": {
     "base_uri": "https://localhost:8080/"
    },
    "id": "MH4VbLzoHez4",
    "outputId": "b5f5c558-2bfa-469a-b52f-577958d9c92a"
   },
   "outputs": [
    {
     "data": {
      "text/plain": [
       "3208"
      ]
     },
     "execution_count": 35,
     "metadata": {},
     "output_type": "execute_result"
    }
   ],
   "source": [
    "emj_count = emoji.emoji_count(s2) # Total emojis used\n",
    "emj_count"
   ]
  },
  {
   "cell_type": "code",
   "execution_count": 36,
   "metadata": {
    "colab": {
     "base_uri": "https://localhost:8080/"
    },
    "id": "LFrPohl8NlnQ",
    "outputId": "80fa3589-7fc2-495f-d44a-7b89d46594d7"
   },
   "outputs": [
    {
     "data": {
      "text/plain": [
       "[{'location': 43, 'emoji': '😂'},\n",
       " {'location': 168, 'emoji': '😂'},\n",
       " {'location': 221, 'emoji': '👍'},\n",
       " {'location': 227, 'emoji': '😂'},\n",
       " {'location': 291, 'emoji': '😂'},\n",
       " {'location': 292, 'emoji': '😂'},\n",
       " {'location': 347, 'emoji': '😂'},\n",
       " {'location': 348, 'emoji': '😂'},\n",
       " {'location': 358, 'emoji': '😂'},\n",
       " {'location': 360, 'emoji': '😂'}]"
      ]
     },
     "execution_count": 36,
     "metadata": {},
     "output_type": "execute_result"
    }
   ],
   "source": [
    "emj = emoji.emoji_lis(s2)\n",
    "emj[:10]"
   ]
  },
  {
   "cell_type": "code",
   "execution_count": 37,
   "metadata": {
    "colab": {
     "base_uri": "https://localhost:8080/"
    },
    "id": "Ih8Yt8grVwow",
    "outputId": "ce9e7bb8-e434-49af-b07a-431e8be128e3"
   },
   "outputs": [
    {
     "data": {
      "text/plain": [
       "['😂', '😂', '👍', '😂', '😂', '😂', '😂', '😂', '😂', '😂']"
      ]
     },
     "execution_count": 37,
     "metadata": {},
     "output_type": "execute_result"
    }
   ],
   "source": [
    "emj_lst = [list(emj[i].values())[1] for i in range(len(emj))] # List of all the emoji\n",
    "emj_lst[:10]"
   ]
  },
  {
   "cell_type": "code",
   "execution_count": 38,
   "metadata": {
    "colab": {
     "base_uri": "https://localhost:8080/"
    },
    "id": "XRcz-YwMdZ4s",
    "outputId": "adb8a290-e87a-4dec-b2df-9ee4760fc5b7"
   },
   "outputs": [
    {
     "data": {
      "text/plain": [
       "True"
      ]
     },
     "execution_count": 38,
     "metadata": {},
     "output_type": "execute_result"
    }
   ],
   "source": [
    "emj_lst[0] == emj_lst[1]"
   ]
  },
  {
   "cell_type": "code",
   "execution_count": 40,
   "metadata": {
    "colab": {
     "base_uri": "https://localhost:8080/"
    },
    "id": "olh4RwGRXKTN",
    "outputId": "db4e5ec7-ae7b-4e33-bf0b-ddd083675dec"
   },
   "outputs": [
    {
     "data": {
      "text/plain": [
       "['😂', '👍', '🔥', '🤛', '🤣', '😄', '🥳', '😎', '🤝', '🤩']"
      ]
     },
     "execution_count": 40,
     "metadata": {},
     "output_type": "execute_result"
    }
   ],
   "source": [
    "emj_lst_str = ('').join(emj_lst)\n",
    "emj_lst_str\n",
    "\n",
    "distinct_emjs = []\n",
    "for i in emj_lst:\n",
    "    if i not in distinct_emjs:\n",
    "        distinct_emjs.append(i)\n",
    "distinct_emjs[:10]\n"
   ]
  },
  {
   "cell_type": "code",
   "execution_count": 42,
   "metadata": {
    "colab": {
     "base_uri": "https://localhost:8080/"
    },
    "id": "k4sOzuYAkw2P",
    "outputId": "140a1a1b-fbce-420f-8f91-5cdc2cc273e4"
   },
   "outputs": [
    {
     "data": {
      "text/plain": [
       "110"
      ]
     },
     "execution_count": 42,
     "metadata": {},
     "output_type": "execute_result"
    }
   ],
   "source": [
    "len(distinct_emjs) # There are 110 unique emojis used"
   ]
  },
  {
   "cell_type": "code",
   "execution_count": 43,
   "metadata": {
    "colab": {
     "base_uri": "https://localhost:8080/",
     "height": 35
    },
    "id": "o6GmybHwikVc",
    "outputId": "e770cdf1-00db-499c-cab7-f85ccc58e5ad"
   },
   "outputs": [
    {
     "data": {
      "text/plain": [
       "':partying_face:'"
      ]
     },
     "execution_count": 43,
     "metadata": {},
     "output_type": "execute_result"
    }
   ],
   "source": [
    "emoji.demojize(distinct_emjs[6], use_aliases=True) # '\\U0001f973'"
   ]
  },
  {
   "cell_type": "code",
   "execution_count": 44,
   "metadata": {
    "colab": {
     "base_uri": "https://localhost:8080/",
     "height": 171
    },
    "id": "BhCRLfhRj5MQ",
    "outputId": "4ce8ffb5-7ae1-41d1-dc57-ec488e5e33dc"
   },
   "outputs": [
    {
     "data": {
      "text/plain": [
       "':joy::thumbsup::fire::left-facing_fist::rolling_on_the_floor_laughing::smile::partying_face::sunglasses::handshake::star-struck::man_shrugging_selector::tired_face::scream::cold_sweat::ok_hand::smiley::victory_hand_selector::tada::love-you_gesture_light_skin_tone::face_with_hand_over_mouth::man_shrugging_light_skin_tone::right-facing_fist::expressionless::relieved::smiling_imp::smirk::man_gesturing_NO_light_skin_tone::satisfied::dizzy_face::man_tipping_hand_light_skin_tone::grin::triumph::face_with_rolling_eyes::sweat_smile::man_facepalming_light_skin_tone::shushing_face::pleading_face::astonished::face_with_monocle::thumbs_down_light_skin_tone::disappointed::face_with_raised_eyebrow::flushed::fearful::woozy_face::grimacing::face_with_symbols_on_mouth::smiling_face_selector::victory_hand_light_skin_tone::stuck_out_tongue_closed_eyes::confused::clapping_hands_light_skin_tone::cry::unamused::heart_suit_selector::innocent::heart_eyes::see_no_evil::middle_finger_light_skin_tone::right-facing_fist_light_skin_tone::left-facing_fist_light_skin_tone::stuck_out_tongue::100::OK_hand_light_skin_tone::dagger_selector::open_mouth::exploding_head::japanese_ogre::thinking_face::gun::hearts::peach::waving_hand_light_skin_tone::new_moon_with_face::full_moon_with_face::neutral_face::writing_hand_selector::wink::rage::sob::weary::eyes::slightly_smiling_face::upside__down_face::sneezing_face::call_me_hand_light_skin_tone::red_heart_selector::pray::raising_hands_light_skin_tone::yum::clap::person_facepalming::raised_hands::pensive::muscle::money__mouth_face::thumbs_up_light_skin_tone::man_facepalming-light_skin_tone::man_facepalming-dark_skin_tone::beers::clinking_glasses::bottle_with_popping_cork::grinning::stuck_out_tongue_winking_eye::cowboy_hat_face::face_vomiting::folded_hands_light_skin_tone::shit::infinity_selector::flag_for_India:'"
      ]
     },
     "execution_count": 44,
     "metadata": {},
     "output_type": "execute_result"
    }
   ],
   "source": [
    "# As there are some emojis in unicode i am converting all to str(demojize the)\n",
    "dis_demj_lst = [emoji.demojize(i, use_aliases=True) for i in distinct_emjs]\n",
    "dis_demj_lst[:10]\n",
    "demj_str = (\"\").join(dis_demj_lst)\n",
    "demj_str"
   ]
  },
  {
   "cell_type": "code",
   "execution_count": 45,
   "metadata": {
    "colab": {
     "base_uri": "https://localhost:8080/",
     "height": 204
    },
    "id": "svwFu6uBl-mS",
    "outputId": "1bb4e225-e3e4-43ad-ee73-bc3a1e43eafa"
   },
   "outputs": [
    {
     "data": {
      "text/html": [
       "<div>\n",
       "<style scoped>\n",
       "    .dataframe tbody tr th:only-of-type {\n",
       "        vertical-align: middle;\n",
       "    }\n",
       "\n",
       "    .dataframe tbody tr th {\n",
       "        vertical-align: top;\n",
       "    }\n",
       "\n",
       "    .dataframe thead th {\n",
       "        text-align: right;\n",
       "    }\n",
       "</style>\n",
       "<table border=\"1\" class=\"dataframe\">\n",
       "  <thead>\n",
       "    <tr style=\"text-align: right;\">\n",
       "      <th></th>\n",
       "      <th>Date</th>\n",
       "      <th>Time</th>\n",
       "      <th>Name</th>\n",
       "      <th>Message</th>\n",
       "      <th>Emoji_in_the_msg</th>\n",
       "      <th>Emoji_Count</th>\n",
       "    </tr>\n",
       "  </thead>\n",
       "  <tbody>\n",
       "    <tr>\n",
       "      <th>3</th>\n",
       "      <td>5/19/20</td>\n",
       "      <td>1:19 PM</td>\n",
       "      <td>Siddharth Chitkara</td>\n",
       "      <td>whatsup bros</td>\n",
       "      <td>[]</td>\n",
       "      <td>0</td>\n",
       "    </tr>\n",
       "    <tr>\n",
       "      <th>4</th>\n",
       "      <td>5/19/20</td>\n",
       "      <td>1:19 PM</td>\n",
       "      <td>Aniket Uca C1</td>\n",
       "      <td>Hey Bros🤟🏻</td>\n",
       "      <td>[🤟🏻]</td>\n",
       "      <td>1</td>\n",
       "    </tr>\n",
       "    <tr>\n",
       "      <th>5</th>\n",
       "      <td>5/19/20</td>\n",
       "      <td>1:19 PM</td>\n",
       "      <td>Aniket Uca C1</td>\n",
       "      <td>Aaj aag lagani hai 🔥😎</td>\n",
       "      <td>[🔥, 😎]</td>\n",
       "      <td>2</td>\n",
       "    </tr>\n",
       "    <tr>\n",
       "      <th>6</th>\n",
       "      <td>5/19/20</td>\n",
       "      <td>1:20 PM</td>\n",
       "      <td>Dhritanshu Aggarwal Chitkara</td>\n",
       "      <td>Hola</td>\n",
       "      <td>[]</td>\n",
       "      <td>0</td>\n",
       "    </tr>\n",
       "    <tr>\n",
       "      <th>7</th>\n",
       "      <td>5/19/20</td>\n",
       "      <td>1:20 PM</td>\n",
       "      <td>Devang Kapoor</td>\n",
       "      <td>Yo bros!</td>\n",
       "      <td>[]</td>\n",
       "      <td>0</td>\n",
       "    </tr>\n",
       "  </tbody>\n",
       "</table>\n",
       "</div>"
      ],
      "text/plain": [
       "      Date     Time                          Name                Message  \\\n",
       "3  5/19/20  1:19 PM            Siddharth Chitkara           whatsup bros   \n",
       "4  5/19/20  1:19 PM                 Aniket Uca C1             Hey Bros🤟🏻   \n",
       "5  5/19/20  1:19 PM                 Aniket Uca C1  Aaj aag lagani hai 🔥😎   \n",
       "6  5/19/20  1:20 PM  Dhritanshu Aggarwal Chitkara                   Hola   \n",
       "7  5/19/20  1:20 PM                 Devang Kapoor               Yo bros!   \n",
       "\n",
       "  Emoji_in_the_msg  Emoji_Count  \n",
       "3               []            0  \n",
       "4             [🤟🏻]            1  \n",
       "5           [🔥, 😎]            2  \n",
       "6               []            0  \n",
       "7               []            0  "
      ]
     },
     "execution_count": 45,
     "metadata": {},
     "output_type": "execute_result"
    }
   ],
   "source": [
    "df_messages['Emoji_in_the_msg'] = df_messages['Message'].apply(lambda e : [list(emoji.emoji_lis(e)[i].values())[1] for i in range(len(emoji.emoji_lis(e)))])\n",
    "df_messages['Emoji_Count'] = df_messages['Emoji_in_the_msg'].apply(lambda e : len(e))\n",
    "df_messages.head()"
   ]
  },
  {
   "cell_type": "code",
   "execution_count": 46,
   "metadata": {
    "colab": {
     "base_uri": "https://localhost:8080/",
     "height": 297
    },
    "id": "f1PJ6nCnoD0b",
    "outputId": "fbb608b4-fadf-45c4-e12c-b4960f6c183a"
   },
   "outputs": [
    {
     "data": {
      "text/html": [
       "<div>\n",
       "<style scoped>\n",
       "    .dataframe tbody tr th:only-of-type {\n",
       "        vertical-align: middle;\n",
       "    }\n",
       "\n",
       "    .dataframe tbody tr th {\n",
       "        vertical-align: top;\n",
       "    }\n",
       "\n",
       "    .dataframe thead th {\n",
       "        text-align: right;\n",
       "    }\n",
       "</style>\n",
       "<table border=\"1\" class=\"dataframe\">\n",
       "  <thead>\n",
       "    <tr style=\"text-align: right;\">\n",
       "      <th></th>\n",
       "      <th>Emoji_Count</th>\n",
       "    </tr>\n",
       "  </thead>\n",
       "  <tbody>\n",
       "    <tr>\n",
       "      <th>count</th>\n",
       "      <td>3824.000000</td>\n",
       "    </tr>\n",
       "    <tr>\n",
       "      <th>mean</th>\n",
       "      <td>0.838912</td>\n",
       "    </tr>\n",
       "    <tr>\n",
       "      <th>std</th>\n",
       "      <td>3.419519</td>\n",
       "    </tr>\n",
       "    <tr>\n",
       "      <th>min</th>\n",
       "      <td>0.000000</td>\n",
       "    </tr>\n",
       "    <tr>\n",
       "      <th>25%</th>\n",
       "      <td>0.000000</td>\n",
       "    </tr>\n",
       "    <tr>\n",
       "      <th>50%</th>\n",
       "      <td>0.000000</td>\n",
       "    </tr>\n",
       "    <tr>\n",
       "      <th>75%</th>\n",
       "      <td>1.000000</td>\n",
       "    </tr>\n",
       "    <tr>\n",
       "      <th>max</th>\n",
       "      <td>200.000000</td>\n",
       "    </tr>\n",
       "  </tbody>\n",
       "</table>\n",
       "</div>"
      ],
      "text/plain": [
       "       Emoji_Count\n",
       "count  3824.000000\n",
       "mean      0.838912\n",
       "std       3.419519\n",
       "min       0.000000\n",
       "25%       0.000000\n",
       "50%       0.000000\n",
       "75%       1.000000\n",
       "max     200.000000"
      ]
     },
     "execution_count": 46,
     "metadata": {},
     "output_type": "execute_result"
    }
   ],
   "source": [
    "df_messages.describe()"
   ]
  },
  {
   "cell_type": "code",
   "execution_count": 47,
   "metadata": {
    "colab": {
     "base_uri": "https://localhost:8080/",
     "height": 114
    },
    "id": "EmNvW795N3o1",
    "outputId": "4a0fb119-ca88-4747-dfd1-7ce6277ae471"
   },
   "outputs": [
    {
     "data": {
      "text/html": [
       "<div>\n",
       "<style scoped>\n",
       "    .dataframe tbody tr th:only-of-type {\n",
       "        vertical-align: middle;\n",
       "    }\n",
       "\n",
       "    .dataframe tbody tr th {\n",
       "        vertical-align: top;\n",
       "    }\n",
       "\n",
       "    .dataframe thead th {\n",
       "        text-align: right;\n",
       "    }\n",
       "</style>\n",
       "<table border=\"1\" class=\"dataframe\">\n",
       "  <thead>\n",
       "    <tr style=\"text-align: right;\">\n",
       "      <th></th>\n",
       "      <th>Date</th>\n",
       "      <th>Time</th>\n",
       "      <th>Name</th>\n",
       "      <th>Message</th>\n",
       "      <th>Emoji_in_the_msg</th>\n",
       "      <th>Emoji_Count</th>\n",
       "    </tr>\n",
       "  </thead>\n",
       "  <tbody>\n",
       "    <tr>\n",
       "      <th>2794</th>\n",
       "      <td>6/28/20</td>\n",
       "      <td>11:48 AM</td>\n",
       "      <td>Vidhuyn UCA C1</td>\n",
       "      <td>🤣🤣🤣🤣🤣🤣🤣🤣🤣🤣🤣🤣🤣🤣🤣🤣🤣🤣🤣🤣🤣🤣🤣🤣🤣🤣🤣🤣🤣🤣🤣🤣🤣🤣🤣🤣🤣🤣🤣🤣🤣🤣🤣🤣🤣🤣...</td>\n",
       "      <td>[🤣, 🤣, 🤣, 🤣, 🤣, 🤣, 🤣, 🤣, 🤣, 🤣, 🤣, 🤣, 🤣, 🤣, 🤣, ...</td>\n",
       "      <td>200</td>\n",
       "    </tr>\n",
       "  </tbody>\n",
       "</table>\n",
       "</div>"
      ],
      "text/plain": [
       "         Date      Time            Name  \\\n",
       "2794  6/28/20  11:48 AM  Vidhuyn UCA C1   \n",
       "\n",
       "                                                Message  \\\n",
       "2794  🤣🤣🤣🤣🤣🤣🤣🤣🤣🤣🤣🤣🤣🤣🤣🤣🤣🤣🤣🤣🤣🤣🤣🤣🤣🤣🤣🤣🤣🤣🤣🤣🤣🤣🤣🤣🤣🤣🤣🤣🤣🤣🤣🤣🤣🤣...   \n",
       "\n",
       "                                       Emoji_in_the_msg  Emoji_Count  \n",
       "2794  [🤣, 🤣, 🤣, 🤣, 🤣, 🤣, 🤣, 🤣, 🤣, 🤣, 🤣, 🤣, 🤣, 🤣, 🤣, ...          200  "
      ]
     },
     "execution_count": 47,
     "metadata": {},
     "output_type": "execute_result"
    }
   ],
   "source": [
    "# Max Emoji used in a message\n",
    "df_messages[df_messages['Emoji_Count'] == df_messages['Emoji_Count'].max()]"
   ]
  },
  {
   "cell_type": "code",
   "execution_count": 48,
   "metadata": {
    "colab": {
     "base_uri": "https://localhost:8080/"
    },
    "id": "Ur9BRsbRpTWJ",
    "outputId": "c5ba5642-16c2-4479-d6c3-68ccea4448bb"
   },
   "outputs": [
    {
     "data": {
      "text/plain": [
       "{'😂': 1560, '👍': 32, '🔥': 75, '🤛': 1, '🤣': 907}"
      ]
     },
     "execution_count": 48,
     "metadata": {},
     "output_type": "execute_result"
    }
   ],
   "source": [
    "emoji_freq_dict = {}\n",
    "\n",
    "emoji_freq = [emj_lst.count(i) for i in distinct_emjs]\n",
    "\n",
    "emoji_freq_dict = {distinct_emjs[i] : emoji_freq[i] for i in range(len(distinct_emjs))}\n",
    "\n",
    "dict(list(emoji_freq_dict.items())[:5])"
   ]
  },
  {
   "cell_type": "code",
   "execution_count": 49,
   "metadata": {
    "colab": {
     "base_uri": "https://localhost:8080/",
     "height": 35
    },
    "id": "djrfVX3g8U7y",
    "outputId": "a5eec77f-7da6-41d4-837f-ef9a2ced3bdc"
   },
   "outputs": [
    {
     "data": {
      "text/plain": [
       "'😂'"
      ]
     },
     "execution_count": 49,
     "metadata": {},
     "output_type": "execute_result"
    }
   ],
   "source": [
    "# Which emoji is the most used?\n",
    "max(emoji_freq_dict, key = emoji_freq_dict.get)"
   ]
  },
  {
   "cell_type": "code",
   "execution_count": 50,
   "metadata": {
    "colab": {
     "base_uri": "https://localhost:8080/",
     "height": 279
    },
    "id": "-akD3ouS9QLa",
    "outputId": "5732f861-39f3-4f30-9d3a-701ba2f2e4d2"
   },
   "outputs": [
    {
     "data": {
      "image/png": "[encoded data removed]",
      "text/plain": [
       "<Figure size 432x288 with 1 Axes>"
      ]
     },
     "metadata": {
      "needs_background": "light"
     },
     "output_type": "display_data"
    }
   ],
   "source": [
    "total_emoji_count_grouped_by_name = df_messages[['Name', 'Emoji_Count']].groupby('Name').sum()\n",
    "sorted_total_emoji_count_grouped_by_name = total_emoji_count_grouped_by_name.sort_values('Emoji_Count', ascending=False)\n",
    "top_10_sorted_total_emoji_count_grouped_by_name = sorted_total_emoji_count_grouped_by_name.head(10)\n",
    "top_10_sorted_total_emoji_count_grouped_by_name.plot.barh()\n",
    "plt.xlabel('Number of Emoji')\n",
    "plt.ylabel('Person');\n"
   ]
  },
  {
   "cell_type": "code",
   "execution_count": 51,
   "metadata": {
    "colab": {
     "base_uri": "https://localhost:8080/"
    },
    "id": "3nJYGcVrBYXe",
    "outputId": "9c02af07-9051-4457-9dab-0dee0a88bf48"
   },
   "outputs": [
    {
     "data": {
      "text/plain": [
       "['😂', '👍', '🔥', '🤛', '🤣', '😄', '🥳', '😎', '🤝', '🤩']"
      ]
     },
     "execution_count": 51,
     "metadata": {},
     "output_type": "execute_result"
    }
   ],
   "source": [
    "list(emoji_freq_dict.keys())[:10]"
   ]
  },
  {
   "cell_type": "code",
   "execution_count": 52,
   "metadata": {
    "id": "xqRKmcA0AsHJ"
   },
   "outputs": [],
   "source": [
    "# import sys\n",
    "# import warnings\n",
    "\n",
    "# if not sys.warnoptions:\n",
    "#     warnings.simplefilter(\"ignore\")\n",
    "# plt.bar(list(emoji_freq_dict.keys())[:10], list(emoji_freq_dict.values())[:10])\n",
    "# plt.show()"
   ]
  },
  {
   "cell_type": "code",
   "execution_count": 53,
   "metadata": {
    "colab": {
     "base_uri": "https://localhost:8080/",
     "height": 296
    },
    "id": "dh2enY0M-op5",
    "outputId": "a48f21b9-7317-4347-a50b-cc607d9e7e32"
   },
   "outputs": [
    {
     "data": {
      "text/plain": [
       "Text(0, 0.5, 'Date')"
      ]
     },
     "execution_count": 53,
     "metadata": {},
     "output_type": "execute_result"
    },
    {
     "data": {
      "image/png": "[encoded data removed]",
      "text/plain": [
       "<Figure size 432x288 with 1 Axes>"
      ]
     },
     "metadata": {
      "needs_background": "light"
     },
     "output_type": "display_data"
    }
   ],
   "source": [
    "df_messages['Date'].value_counts().head(10).plot.barh() # Top 10 Dates on which the most number of messages were sent\n",
    "plt.xlabel('Number of Messages')\n",
    "plt.ylabel('Date')"
   ]
  },
  {
   "cell_type": "code",
   "execution_count": 54,
   "metadata": {
    "id": "X3WlrMq9Bdev"
   },
   "outputs": [
    {
     "data": {
      "text/html": [
       "<div>\n",
       "<style scoped>\n",
       "    .dataframe tbody tr th:only-of-type {\n",
       "        vertical-align: middle;\n",
       "    }\n",
       "\n",
       "    .dataframe tbody tr th {\n",
       "        vertical-align: top;\n",
       "    }\n",
       "\n",
       "    .dataframe thead th {\n",
       "        text-align: right;\n",
       "    }\n",
       "</style>\n",
       "<table border=\"1\" class=\"dataframe\">\n",
       "  <thead>\n",
       "    <tr style=\"text-align: right;\">\n",
       "      <th></th>\n",
       "      <th>Date</th>\n",
       "      <th>Time</th>\n",
       "      <th>Name</th>\n",
       "      <th>Message</th>\n",
       "      <th>Emoji_in_the_msg</th>\n",
       "      <th>Emoji_Count</th>\n",
       "      <th>Letter_Count</th>\n",
       "      <th>Word_Count</th>\n",
       "    </tr>\n",
       "  </thead>\n",
       "  <tbody>\n",
       "    <tr>\n",
       "      <th>3</th>\n",
       "      <td>5/19/20</td>\n",
       "      <td>1:19 PM</td>\n",
       "      <td>Siddharth Chitkara</td>\n",
       "      <td>whatsup bros</td>\n",
       "      <td>[]</td>\n",
       "      <td>0</td>\n",
       "      <td>12</td>\n",
       "      <td>2</td>\n",
       "    </tr>\n",
       "    <tr>\n",
       "      <th>4</th>\n",
       "      <td>5/19/20</td>\n",
       "      <td>1:19 PM</td>\n",
       "      <td>Aniket Uca C1</td>\n",
       "      <td>Hey Bros🤟🏻</td>\n",
       "      <td>[🤟🏻]</td>\n",
       "      <td>1</td>\n",
       "      <td>10</td>\n",
       "      <td>2</td>\n",
       "    </tr>\n",
       "    <tr>\n",
       "      <th>5</th>\n",
       "      <td>5/19/20</td>\n",
       "      <td>1:19 PM</td>\n",
       "      <td>Aniket Uca C1</td>\n",
       "      <td>Aaj aag lagani hai 🔥😎</td>\n",
       "      <td>[🔥, 😎]</td>\n",
       "      <td>2</td>\n",
       "      <td>21</td>\n",
       "      <td>5</td>\n",
       "    </tr>\n",
       "    <tr>\n",
       "      <th>6</th>\n",
       "      <td>5/19/20</td>\n",
       "      <td>1:20 PM</td>\n",
       "      <td>Dhritanshu Aggarwal Chitkara</td>\n",
       "      <td>Hola</td>\n",
       "      <td>[]</td>\n",
       "      <td>0</td>\n",
       "      <td>4</td>\n",
       "      <td>1</td>\n",
       "    </tr>\n",
       "    <tr>\n",
       "      <th>7</th>\n",
       "      <td>5/19/20</td>\n",
       "      <td>1:20 PM</td>\n",
       "      <td>Devang Kapoor</td>\n",
       "      <td>Yo bros!</td>\n",
       "      <td>[]</td>\n",
       "      <td>0</td>\n",
       "      <td>8</td>\n",
       "      <td>2</td>\n",
       "    </tr>\n",
       "  </tbody>\n",
       "</table>\n",
       "</div>"
      ],
      "text/plain": [
       "      Date     Time                          Name                Message  \\\n",
       "3  5/19/20  1:19 PM            Siddharth Chitkara           whatsup bros   \n",
       "4  5/19/20  1:19 PM                 Aniket Uca C1             Hey Bros🤟🏻   \n",
       "5  5/19/20  1:19 PM                 Aniket Uca C1  Aaj aag lagani hai 🔥😎   \n",
       "6  5/19/20  1:20 PM  Dhritanshu Aggarwal Chitkara                   Hola   \n",
       "7  5/19/20  1:20 PM                 Devang Kapoor               Yo bros!   \n",
       "\n",
       "  Emoji_in_the_msg  Emoji_Count  Letter_Count  Word_Count  \n",
       "3               []            0            12           2  \n",
       "4             [🤟🏻]            1            10           2  \n",
       "5           [🔥, 😎]            2            21           5  \n",
       "6               []            0             4           1  \n",
       "7               []            0             8           2  "
      ]
     },
     "execution_count": 54,
     "metadata": {},
     "output_type": "execute_result"
    }
   ],
   "source": [
    "df_messages['Letter_Count'] = df_messages['Message'].apply(lambda s : len(s))\n",
    "df_messages['Word_Count'] = df_messages['Message'].apply(lambda s : len(s.split(' ')))\n",
    "df_messages.head()"
   ]
  },
  {
   "cell_type": "code",
   "execution_count": 55,
   "metadata": {
    "colab": {
     "base_uri": "https://localhost:8080/",
     "height": 297
    },
    "id": "1Nx1PjWDWoq-",
    "outputId": "f7574abe-a2d8-40ba-933d-f95fb2e61942"
   },
   "outputs": [
    {
     "data": {
      "text/html": [
       "<div>\n",
       "<style scoped>\n",
       "    .dataframe tbody tr th:only-of-type {\n",
       "        vertical-align: middle;\n",
       "    }\n",
       "\n",
       "    .dataframe tbody tr th {\n",
       "        vertical-align: top;\n",
       "    }\n",
       "\n",
       "    .dataframe thead th {\n",
       "        text-align: right;\n",
       "    }\n",
       "</style>\n",
       "<table border=\"1\" class=\"dataframe\">\n",
       "  <thead>\n",
       "    <tr style=\"text-align: right;\">\n",
       "      <th></th>\n",
       "      <th>Emoji_Count</th>\n",
       "      <th>Letter_Count</th>\n",
       "      <th>Word_Count</th>\n",
       "    </tr>\n",
       "  </thead>\n",
       "  <tbody>\n",
       "    <tr>\n",
       "      <th>count</th>\n",
       "      <td>3824.000000</td>\n",
       "      <td>3824.000000</td>\n",
       "      <td>3824.000000</td>\n",
       "    </tr>\n",
       "    <tr>\n",
       "      <th>mean</th>\n",
       "      <td>0.838912</td>\n",
       "      <td>25.273797</td>\n",
       "      <td>5.015690</td>\n",
       "    </tr>\n",
       "    <tr>\n",
       "      <th>std</th>\n",
       "      <td>3.419519</td>\n",
       "      <td>32.182233</td>\n",
       "      <td>5.910198</td>\n",
       "    </tr>\n",
       "    <tr>\n",
       "      <th>min</th>\n",
       "      <td>0.000000</td>\n",
       "      <td>1.000000</td>\n",
       "      <td>1.000000</td>\n",
       "    </tr>\n",
       "    <tr>\n",
       "      <th>25%</th>\n",
       "      <td>0.000000</td>\n",
       "      <td>4.000000</td>\n",
       "      <td>1.000000</td>\n",
       "    </tr>\n",
       "    <tr>\n",
       "      <th>50%</th>\n",
       "      <td>0.000000</td>\n",
       "      <td>15.000000</td>\n",
       "      <td>3.000000</td>\n",
       "    </tr>\n",
       "    <tr>\n",
       "      <th>75%</th>\n",
       "      <td>1.000000</td>\n",
       "      <td>35.000000</td>\n",
       "      <td>7.000000</td>\n",
       "    </tr>\n",
       "    <tr>\n",
       "      <th>max</th>\n",
       "      <td>200.000000</td>\n",
       "      <td>590.000000</td>\n",
       "      <td>115.000000</td>\n",
       "    </tr>\n",
       "  </tbody>\n",
       "</table>\n",
       "</div>"
      ],
      "text/plain": [
       "       Emoji_Count  Letter_Count   Word_Count\n",
       "count  3824.000000   3824.000000  3824.000000\n",
       "mean      0.838912     25.273797     5.015690\n",
       "std       3.419519     32.182233     5.910198\n",
       "min       0.000000      1.000000     1.000000\n",
       "25%       0.000000      4.000000     1.000000\n",
       "50%       0.000000     15.000000     3.000000\n",
       "75%       1.000000     35.000000     7.000000\n",
       "max     200.000000    590.000000   115.000000"
      ]
     },
     "execution_count": 55,
     "metadata": {},
     "output_type": "execute_result"
    }
   ],
   "source": [
    "df_messages.describe()"
   ]
  },
  {
   "cell_type": "code",
   "execution_count": 56,
   "metadata": {
    "colab": {
     "base_uri": "https://localhost:8080/"
    },
    "id": "jOV1C4eU67tV",
    "outputId": "7c115748-146c-4edb-e0b9-b9e16c3be3dd"
   },
   "outputs": [
    {
     "data": {
      "text/plain": [
       "96647"
      ]
     },
     "execution_count": 56,
     "metadata": {},
     "output_type": "execute_result"
    }
   ],
   "source": [
    "df_messages['Letter_Count'].sum()"
   ]
  },
  {
   "cell_type": "code",
   "execution_count": 57,
   "metadata": {
    "colab": {
     "base_uri": "https://localhost:8080/"
    },
    "id": "rbKCzChLJ_Pv",
    "outputId": "d5369889-2883-480d-a288-95426ffbb5c8"
   },
   "outputs": [
    {
     "data": {
      "text/plain": [
       "19180"
      ]
     },
     "execution_count": 57,
     "metadata": {},
     "output_type": "execute_result"
    }
   ],
   "source": [
    "df_messages['Word_Count'].sum()"
   ]
  },
  {
   "cell_type": "code",
   "execution_count": 58,
   "metadata": {
    "colab": {
     "base_uri": "https://localhost:8080/",
     "height": 419
    },
    "id": "gHWhfpMqHJhK",
    "outputId": "1ad8684d-d2e4-4410-ced6-e707433efb2f"
   },
   "outputs": [
    {
     "data": {
      "text/html": [
       "<div>\n",
       "<style scoped>\n",
       "    .dataframe tbody tr th:only-of-type {\n",
       "        vertical-align: middle;\n",
       "    }\n",
       "\n",
       "    .dataframe tbody tr th {\n",
       "        vertical-align: top;\n",
       "    }\n",
       "\n",
       "    .dataframe thead th {\n",
       "        text-align: right;\n",
       "    }\n",
       "</style>\n",
       "<table border=\"1\" class=\"dataframe\">\n",
       "  <thead>\n",
       "    <tr style=\"text-align: right;\">\n",
       "      <th></th>\n",
       "      <th>Date</th>\n",
       "      <th>Time</th>\n",
       "      <th>Name</th>\n",
       "      <th>Message</th>\n",
       "      <th>Emoji_in_the_msg</th>\n",
       "      <th>Emoji_Count</th>\n",
       "      <th>Letter_Count</th>\n",
       "      <th>Word_Count</th>\n",
       "      <th>Hour</th>\n",
       "    </tr>\n",
       "  </thead>\n",
       "  <tbody>\n",
       "    <tr>\n",
       "      <th>3</th>\n",
       "      <td>5/19/20</td>\n",
       "      <td>1:19 PM</td>\n",
       "      <td>Siddharth Chitkara</td>\n",
       "      <td>whatsup bros</td>\n",
       "      <td>[]</td>\n",
       "      <td>0</td>\n",
       "      <td>12</td>\n",
       "      <td>2</td>\n",
       "      <td>1</td>\n",
       "    </tr>\n",
       "    <tr>\n",
       "      <th>4</th>\n",
       "      <td>5/19/20</td>\n",
       "      <td>1:19 PM</td>\n",
       "      <td>Aniket Uca C1</td>\n",
       "      <td>Hey Bros🤟🏻</td>\n",
       "      <td>[🤟🏻]</td>\n",
       "      <td>1</td>\n",
       "      <td>10</td>\n",
       "      <td>2</td>\n",
       "      <td>1</td>\n",
       "    </tr>\n",
       "    <tr>\n",
       "      <th>5</th>\n",
       "      <td>5/19/20</td>\n",
       "      <td>1:19 PM</td>\n",
       "      <td>Aniket Uca C1</td>\n",
       "      <td>Aaj aag lagani hai 🔥😎</td>\n",
       "      <td>[🔥, 😎]</td>\n",
       "      <td>2</td>\n",
       "      <td>21</td>\n",
       "      <td>5</td>\n",
       "      <td>1</td>\n",
       "    </tr>\n",
       "    <tr>\n",
       "      <th>6</th>\n",
       "      <td>5/19/20</td>\n",
       "      <td>1:20 PM</td>\n",
       "      <td>Dhritanshu Aggarwal Chitkara</td>\n",
       "      <td>Hola</td>\n",
       "      <td>[]</td>\n",
       "      <td>0</td>\n",
       "      <td>4</td>\n",
       "      <td>1</td>\n",
       "      <td>1</td>\n",
       "    </tr>\n",
       "    <tr>\n",
       "      <th>7</th>\n",
       "      <td>5/19/20</td>\n",
       "      <td>1:20 PM</td>\n",
       "      <td>Devang Kapoor</td>\n",
       "      <td>Yo bros!</td>\n",
       "      <td>[]</td>\n",
       "      <td>0</td>\n",
       "      <td>8</td>\n",
       "      <td>2</td>\n",
       "      <td>1</td>\n",
       "    </tr>\n",
       "    <tr>\n",
       "      <th>...</th>\n",
       "      <td>...</td>\n",
       "      <td>...</td>\n",
       "      <td>...</td>\n",
       "      <td>...</td>\n",
       "      <td>...</td>\n",
       "      <td>...</td>\n",
       "      <td>...</td>\n",
       "      <td>...</td>\n",
       "      <td>...</td>\n",
       "    </tr>\n",
       "    <tr>\n",
       "      <th>4698</th>\n",
       "      <td>8/19/20</td>\n",
       "      <td>8:36 AM</td>\n",
       "      <td>Aniket Uca C1</td>\n",
       "      <td>😂🤭</td>\n",
       "      <td>[😂, 🤭]</td>\n",
       "      <td>2</td>\n",
       "      <td>2</td>\n",
       "      <td>1</td>\n",
       "      <td>8</td>\n",
       "    </tr>\n",
       "    <tr>\n",
       "      <th>4700</th>\n",
       "      <td>8/19/20</td>\n",
       "      <td>12:00 PM</td>\n",
       "      <td>Aniket Uca C1</td>\n",
       "      <td>Iska ho gaya hai ab. Bekaar hai yeh.</td>\n",
       "      <td>[]</td>\n",
       "      <td>0</td>\n",
       "      <td>36</td>\n",
       "      <td>8</td>\n",
       "      <td>12</td>\n",
       "    </tr>\n",
       "    <tr>\n",
       "      <th>4701</th>\n",
       "      <td>8/19/20</td>\n",
       "      <td>12:03 PM</td>\n",
       "      <td>Vidhuyn UCA C1</td>\n",
       "      <td>😂😂</td>\n",
       "      <td>[😂, 😂]</td>\n",
       "      <td>2</td>\n",
       "      <td>2</td>\n",
       "      <td>1</td>\n",
       "      <td>12</td>\n",
       "    </tr>\n",
       "    <tr>\n",
       "      <th>4706</th>\n",
       "      <td>8/19/20</td>\n",
       "      <td>4:58 PM</td>\n",
       "      <td>Aniket Uca C1</td>\n",
       "      <td>🔥🔥</td>\n",
       "      <td>[🔥, 🔥]</td>\n",
       "      <td>2</td>\n",
       "      <td>2</td>\n",
       "      <td>1</td>\n",
       "      <td>4</td>\n",
       "    </tr>\n",
       "    <tr>\n",
       "      <th>4707</th>\n",
       "      <td>8/19/20</td>\n",
       "      <td>6:34 PM</td>\n",
       "      <td>Devang Kapoor</td>\n",
       "      <td>😂😂😂😂</td>\n",
       "      <td>[😂, 😂, 😂, 😂]</td>\n",
       "      <td>4</td>\n",
       "      <td>4</td>\n",
       "      <td>1</td>\n",
       "      <td>6</td>\n",
       "    </tr>\n",
       "  </tbody>\n",
       "</table>\n",
       "<p>3824 rows × 9 columns</p>\n",
       "</div>"
      ],
      "text/plain": [
       "         Date      Time                          Name  \\\n",
       "3     5/19/20   1:19 PM            Siddharth Chitkara   \n",
       "4     5/19/20   1:19 PM                 Aniket Uca C1   \n",
       "5     5/19/20   1:19 PM                 Aniket Uca C1   \n",
       "6     5/19/20   1:20 PM  Dhritanshu Aggarwal Chitkara   \n",
       "7     5/19/20   1:20 PM                 Devang Kapoor   \n",
       "...       ...       ...                           ...   \n",
       "4698  8/19/20   8:36 AM                 Aniket Uca C1   \n",
       "4700  8/19/20  12:00 PM                 Aniket Uca C1   \n",
       "4701  8/19/20  12:03 PM                Vidhuyn UCA C1   \n",
       "4706  8/19/20   4:58 PM                 Aniket Uca C1   \n",
       "4707  8/19/20   6:34 PM                 Devang Kapoor   \n",
       "\n",
       "                                   Message Emoji_in_the_msg  Emoji_Count  \\\n",
       "3                             whatsup bros               []            0   \n",
       "4                               Hey Bros🤟🏻             [🤟🏻]            1   \n",
       "5                    Aaj aag lagani hai 🔥😎           [🔥, 😎]            2   \n",
       "6                                     Hola               []            0   \n",
       "7                                 Yo bros!               []            0   \n",
       "...                                    ...              ...          ...   \n",
       "4698                                    😂🤭           [😂, 🤭]            2   \n",
       "4700  Iska ho gaya hai ab. Bekaar hai yeh.               []            0   \n",
       "4701                                    😂😂           [😂, 😂]            2   \n",
       "4706                                    🔥🔥           [🔥, 🔥]            2   \n",
       "4707                                  😂😂😂😂     [😂, 😂, 😂, 😂]            4   \n",
       "\n",
       "      Letter_Count  Word_Count Hour  \n",
       "3               12           2    1  \n",
       "4               10           2    1  \n",
       "5               21           5    1  \n",
       "6                4           1    1  \n",
       "7                8           2    1  \n",
       "...            ...         ...  ...  \n",
       "4698             2           1    8  \n",
       "4700            36           8   12  \n",
       "4701             2           1   12  \n",
       "4706             2           1    4  \n",
       "4707             4           1    6  \n",
       "\n",
       "[3824 rows x 9 columns]"
      ]
     },
     "execution_count": 58,
     "metadata": {},
     "output_type": "execute_result"
    }
   ],
   "source": [
    "df_messages['Hour'] = df_messages['Time'].apply(lambda x : x.split(':')[0])\n",
    "df_messages"
   ]
  },
  {
   "cell_type": "code",
   "execution_count": 59,
   "metadata": {
    "colab": {
     "base_uri": "https://localhost:8080/",
     "height": 296
    },
    "id": "VUA_q-UNI9Tp",
    "outputId": "75688a6d-0b22-4910-c9fc-eda1af47eabe"
   },
   "outputs": [
    {
     "data": {
      "text/plain": [
       "Text(0, 0.5, 'Hour of Day')"
      ]
     },
     "execution_count": 59,
     "metadata": {},
     "output_type": "execute_result"
    },
    {
     "data": {
      "image/png": "[encoded data removed]",
      "text/plain": [
       "<Figure size 432x288 with 1 Axes>"
      ]
     },
     "metadata": {
      "needs_background": "light"
     },
     "output_type": "display_data"
    }
   ],
   "source": [
    "df_messages['Hour'].value_counts().head(10).sort_index(ascending=True).plot.barh() \n",
    "plt.xlabel('Number of messages')\n",
    "plt.ylabel('Hour of Day')\n"
   ]
  },
  {
   "cell_type": "markdown",
   "metadata": {
    "id": "eyGmBAMCcJD6"
   },
   "source": [
    "## Autosuggest/Predictive text using Markov Chains"
   ]
  },
  {
   "cell_type": "code",
   "execution_count": 60,
   "metadata": {
    "colab": {
     "base_uri": "https://localhost:8080/"
    },
    "id": "EAX0Jr60Y66w",
    "outputId": "1f2dd1ac-0659-4f6c-9d63-3cb0f57ea97f"
   },
   "outputs": [
    {
     "data": {
      "text/plain": [
       "{'what': {'s': 4, ' ': 20, '?': 1, ',': 1},\n",
       " 'hats': {'u': 1, ' ': 1, 'a': 3, 'A': 4},\n",
       " 'atsu': {'p': 1},\n",
       " 'tsup': {' ': 1},\n",
       " 'sup ': {'b': 1}}"
      ]
     },
     "execution_count": 60,
     "metadata": {},
     "output_type": "execute_result"
    }
   ],
   "source": [
    "def generateTable(data, k = 4):\n",
    "    T = {}\n",
    "\n",
    "    for i in range(len(data)-k):\n",
    "        X = data[i:i+k]\n",
    "        y = data[i+k]\n",
    "\n",
    "        if T.get(X) is None:\n",
    "            T[X] = {}\n",
    "            T[X][y] = 1\n",
    "        else:\n",
    "            if T[X].get(y) is None:\n",
    "                T[X][y] = 1\n",
    "            else:\n",
    "                T[X][y] += 1\n",
    "\n",
    "    return T\n",
    "\n",
    "T = generateTable(s2)\n",
    "dict(list(T.items())[:5])"
   ]
  },
  {
   "cell_type": "code",
   "execution_count": 61,
   "metadata": {
    "colab": {
     "base_uri": "https://localhost:8080/"
    },
    "id": "JO17xeIc-NDu",
    "outputId": "4dfd13de-fc40-4718-e680-cb484baf38c1"
   },
   "outputs": [
    {
     "data": {
      "text/plain": [
       "['what', 'hats', 'atsu', 'tsup', 'sup ']"
      ]
     },
     "execution_count": 61,
     "metadata": {},
     "output_type": "execute_result"
    }
   ],
   "source": [
    "list(T.keys())[:5]"
   ]
  },
  {
   "cell_type": "code",
   "execution_count": 62,
   "metadata": {
    "colab": {
     "base_uri": "https://localhost:8080/"
    },
    "id": "0-9RXyBp-yqx",
    "outputId": "10366f11-10bd-48f9-c412-d0d58a679165"
   },
   "outputs": [
    {
     "data": {
      "text/plain": [
       "[{'s': 4, ' ': 20, '?': 1, ',': 1},\n",
       " {'u': 1, ' ': 1, 'a': 3, 'A': 4},\n",
       " {'p': 1},\n",
       " {' ': 1},\n",
       " {'b': 1}]"
      ]
     },
     "execution_count": 62,
     "metadata": {},
     "output_type": "execute_result"
    }
   ],
   "source": [
    "list(T.values())[:5]"
   ]
  },
  {
   "cell_type": "code",
   "execution_count": 63,
   "metadata": {
    "colab": {
     "base_uri": "https://localhost:8080/",
     "height": 35
    },
    "id": "o7swJUcgg22g",
    "outputId": "76f2472c-6850-44e2-c44f-a36d8d922cd3"
   },
   "outputs": [
    {
     "data": {
      "text/plain": [
       "'hellow karne kuch soch se reactive present of Marks ? han idk msg ki bharat hota aisa tere app system sof'"
      ]
     },
     "execution_count": 63,
     "metadata": {},
     "output_type": "execute_result"
    }
   ],
   "source": [
    "k = 4\n",
    "initial_value = 'hello'\n",
    "for i in range(100):\n",
    "    inval = initial_value[-k:]\n",
    "\n",
    "    possible_chars = list(T[inval].keys())\n",
    "    possible_values = list(T[inval].values())\n",
    "\n",
    "    sum_ = np.sum(possible_values)\n",
    "\n",
    "    probabs = np.array(possible_values / sum_)\n",
    "\n",
    "    y = np.random.choice(possible_chars, p = probabs)\n",
    "\n",
    "    initial_value += y\n",
    "initial_value"
   ]
  },
  {
   "cell_type": "code",
   "execution_count": null,
   "metadata": {
    "id": "-wfq55ov0k74"
   },
   "outputs": [],
   "source": []
  }
 ],
 "metadata": {
  "colab": {
   "collapsed_sections": [],
   "name": "WhatsApp Analysis.ipynb",
   "provenance": [],
   "toc_visible": true
  },
  "kernelspec": {
   "display_name": "Python 3",
   "language": "python",
   "name": "python3"
  },
  "language_info": {
   "codemirror_mode": {
    "name": "ipython",
    "version": 3
   },
   "file_extension": ".py",
   "mimetype": "text/x-python",
   "name": "python",
   "nbconvert_exporter": "python",
   "pygments_lexer": "ipython3",
   "version": "3.8.3"
  }
 },
 "nbformat": 4,
 "nbformat_minor": 1
}
